{
  "nbformat": 4,
  "nbformat_minor": 0,
  "metadata": {
    "kernelspec": {
      "display_name": "Python 3.5",
      "language": "python",
      "name": "py35"
    },
    "language_info": {
      "codemirror_mode": {
        "name": "ipython",
        "version": 3
      },
      "file_extension": ".py",
      "mimetype": "text/x-python",
      "name": "python",
      "nbconvert_exporter": "python",
      "pygments_lexer": "ipython3",
      "version": "3.5.10"
    },
    "colab": {
      "name": "Classifiers.ipynb",
      "provenance": [],
      "collapsed_sections": []
    }
  },
  "cells": [
    {
      "cell_type": "code",
      "metadata": {
        "id": "yqQdIP3D3lCw"
      },
      "source": [
        "from quantopian.pipeline import Pipeline\n",
        "from quantopian.research import run_pipeline\n",
        "from quantopian.pipeline.factors import SimpleMovingAverage, AverageDollarVolume"
      ],
      "execution_count": null,
      "outputs": []
    },
    {
      "cell_type": "markdown",
      "metadata": {
        "id": "4NHE3-Hg3lC3"
      },
      "source": [
        "##Classifiers\n",
        "A classifier is a function from an asset and a moment in time to a [categorical output](https://en.wikipedia.org/wiki/Categorical_variable) such as a `string` or `integer` label:\n",
        "```\n",
        "F(asset, timestamp) -> category\n",
        "```\n",
        "An example of a classifier producing a string output is the exchange ID of a security. To create this classifier, you'll have to import `Fundamentals.exchange_id` and use the [latest](https://www.quantopian.com/tutorials/pipeline#lesson3) attribute to instantiate the classifier:"
      ]
    },
    {
      "cell_type": "code",
      "metadata": {
        "id": "TKEWtOem3lC4"
      },
      "source": [
        "from quantopian.pipeline.data import Fundamentals\n",
        "\n",
        "# Since the underlying data of Fundamentals.exchange_id\n",
        "# is of type string, .latest returns a Classifier\n",
        "exchange = Fundamentals.exchange_id.latest"
      ],
      "execution_count": null,
      "outputs": []
    },
    {
      "cell_type": "markdown",
      "metadata": {
        "id": "nzKFqd-z3lC-"
      },
      "source": [
        "Previously, you saw that the `latest` attribute produced an instance of a `Factor`. In this case, since the underlying data is of type `string`, `latest` produces a `Classifier`.\n",
        "\n",
        "Similarly, a computation producing the latest Morningstar sector code of a security is a `Classifier`. In this case, the underlying type is an `int`, but the integer doesn't represent a numerical value (it's a category) so it produces a classifier. To get the latest sector code, you can use the built-in `Sector` classifier."
      ]
    },
    {
      "cell_type": "code",
      "metadata": {
        "id": "kIuKeivb3lC_"
      },
      "source": [
        "from quantopian.pipeline.classifiers.fundamentals import Sector  \n",
        "morningstar_sector = Sector()"
      ],
      "execution_count": null,
      "outputs": []
    },
    {
      "cell_type": "markdown",
      "metadata": {
        "id": "EIjYLACh3lDE"
      },
      "source": [
        "Using `Sector` is equivalent to `Fundamentals.morningstar_sector_code.latest`."
      ]
    },
    {
      "cell_type": "markdown",
      "metadata": {
        "id": "TuzJTFrA3lDF"
      },
      "source": [
        "###Building Filters from Classifiers\n",
        "Classifiers can also be used to produce filters with methods like `isnull`, `eq`, and `startswith`. The full list of `Classifier` methods producing `Filters` can be found [here](https://www.quantopian.com/help#quantopian_pipeline_classifiers_Classifier).\n",
        "\n",
        "As an example, if you wanted a filter to select for securities trading on the New York Stock Exchange, you can use the `eq` method of our `exchange` classifier."
      ]
    },
    {
      "cell_type": "code",
      "metadata": {
        "id": "j2uPvWd_3lDG"
      },
      "source": [
        "nyse_filter = exchange.eq('NYS')"
      ],
      "execution_count": null,
      "outputs": []
    },
    {
      "cell_type": "markdown",
      "metadata": {
        "id": "I7uJ0n1M3lDM"
      },
      "source": [
        "This filter will return `True` for securities having `'NYS'` as their most recent `exchange_id`."
      ]
    },
    {
      "cell_type": "markdown",
      "metadata": {
        "id": "8IQzxPBz3lDN"
      },
      "source": [
        "###Quantiles\n",
        "Classifiers can also be produced from various `Factor` methods. The most general of these is the `quantiles` method which accepts a bin count as an argument. The `quantiles` method assigns a label from 0 to (bins - 1) to every non-NaN data point in the factor output and returns a `Classifier` with these labels. `NaN`s are labeled with -1. Aliases are available for [quartiles](https://www.quantopian.com/help/#quantopian_pipeline_factors_Factor_quartiles) (`quantiles(4)`), [quintiles](https://www.quantopian.com/help/#quantopian_pipeline_factors_Factor_quintiles) (`quantiles(5)`), and [deciles](https://www.quantopian.com/help/#quantopian_pipeline_factors_Factor_deciles) (`quantiles(10)`). As an example, this is what a filter for the top decile of a factor might look like:"
      ]
    },
    {
      "cell_type": "code",
      "metadata": {
        "id": "4S8HWk-B3lDO"
      },
      "source": [
        "dollar_volume_decile = AverageDollarVolume(window_length=10).deciles()\n",
        "top_decile = (dollar_volume_decile.eq(9))"
      ],
      "execution_count": null,
      "outputs": []
    },
    {
      "cell_type": "markdown",
      "metadata": {
        "id": "uhyVJsUW3lDT"
      },
      "source": [
        "\n",
        "\n",
        "Let's put each of the classifiers into a pipeline and run it to see what they look like."
      ]
    },
    {
      "cell_type": "code",
      "metadata": {
        "id": "FIbjzXML3lDU"
      },
      "source": [
        "def make_pipeline():\n",
        "    exchange = Fundamentals.exchange_id.latest\n",
        "    nyse_filter = exchange.eq('NYS')\n",
        "\n",
        "    morningstar_sector = Sector()\n",
        "\n",
        "    dollar_volume_decile = AverageDollarVolume(window_length=10).deciles()\n",
        "    top_decile = (dollar_volume_decile.eq(9))\n",
        "\n",
        "    return Pipeline(\n",
        "        columns={\n",
        "            'exchange': exchange,\n",
        "            'sector_code': morningstar_sector,\n",
        "            'dollar_volume_decile': dollar_volume_decile\n",
        "        },\n",
        "        screen=(nyse_filter & top_decile)\n",
        "    )"
      ],
      "execution_count": null,
      "outputs": []
    },
    {
      "cell_type": "code",
      "metadata": {
        "id": "BU5LW04s3lDb",
        "outputId": "f206a7e3-d081-4823-d00c-1ead7c09170d",
        "colab": {
          "referenced_widgets": [
            ""
          ]
        }
      },
      "source": [
        "result = run_pipeline(make_pipeline(), '2015-05-05', '2015-05-05')\n",
        "print 'Number of securities that passed the filter: %d' % len(result)\n",
        "result.head(5)"
      ],
      "execution_count": null,
      "outputs": [
        {
          "output_type": "display_data",
          "data": {
            "application/vnd.jupyter.widget-view+json": {
              "model_id": "",
              "version_major": 2,
              "version_minor": 0
            },
            "text/plain": [
              ""
            ]
          },
          "metadata": {
            "tags": []
          }
        },
        {
          "output_type": "display_data",
          "data": {
            "text/html": [
              "<b>Pipeline Execution Time:</b> 1.21 Seconds"
            ],
            "text/plain": [
              "<IPython.core.display.HTML object>"
            ]
          },
          "metadata": {
            "tags": []
          }
        },
        {
          "output_type": "stream",
          "text": [
            "Number of securities that passed the filter: 513\n"
          ],
          "name": "stdout"
        },
        {
          "output_type": "execute_result",
          "data": {
            "text/html": [
              "<div>\n",
              "<table border=\"1\" class=\"dataframe\">\n",
              "  <thead>\n",
              "    <tr style=\"text-align: right;\">\n",
              "      <th></th>\n",
              "      <th></th>\n",
              "      <th>dollar_volume_decile</th>\n",
              "      <th>exchange</th>\n",
              "      <th>sector_code</th>\n",
              "    </tr>\n",
              "  </thead>\n",
              "  <tbody>\n",
              "    <tr>\n",
              "      <th rowspan=\"5\" valign=\"top\">2015-05-05 00:00:00+00:00</th>\n",
              "      <th>Equity(2 [HWM])</th>\n",
              "      <td>9</td>\n",
              "      <td>NYS</td>\n",
              "      <td>101</td>\n",
              "    </tr>\n",
              "    <tr>\n",
              "      <th>Equity(62 [ABT])</th>\n",
              "      <td>9</td>\n",
              "      <td>NYS</td>\n",
              "      <td>206</td>\n",
              "    </tr>\n",
              "    <tr>\n",
              "      <th>Equity(64 [GOLD])</th>\n",
              "      <td>9</td>\n",
              "      <td>NYS</td>\n",
              "      <td>101</td>\n",
              "    </tr>\n",
              "    <tr>\n",
              "      <th>Equity(76 [TAP])</th>\n",
              "      <td>9</td>\n",
              "      <td>NYS</td>\n",
              "      <td>205</td>\n",
              "    </tr>\n",
              "    <tr>\n",
              "      <th>Equity(128 [ADM])</th>\n",
              "      <td>9</td>\n",
              "      <td>NYS</td>\n",
              "      <td>205</td>\n",
              "    </tr>\n",
              "  </tbody>\n",
              "</table>\n",
              "</div>"
            ],
            "text/plain": [
              "                                             dollar_volume_decile exchange  \\\n",
              "2015-05-05 00:00:00+00:00 Equity(2 [HWM])                       9      NYS   \n",
              "                          Equity(62 [ABT])                      9      NYS   \n",
              "                          Equity(64 [GOLD])                     9      NYS   \n",
              "                          Equity(76 [TAP])                      9      NYS   \n",
              "                          Equity(128 [ADM])                     9      NYS   \n",
              "\n",
              "                                             sector_code  \n",
              "2015-05-05 00:00:00+00:00 Equity(2 [HWM])            101  \n",
              "                          Equity(62 [ABT])           206  \n",
              "                          Equity(64 [GOLD])          101  \n",
              "                          Equity(76 [TAP])           205  \n",
              "                          Equity(128 [ADM])          205  "
            ]
          },
          "metadata": {
            "tags": []
          },
          "execution_count": 14
        }
      ]
    }
  ]
}