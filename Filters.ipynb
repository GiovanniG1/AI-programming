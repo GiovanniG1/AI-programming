{
  "nbformat": 4,
  "nbformat_minor": 0,
  "metadata": {
    "kernelspec": {
      "display_name": "Python 3.5",
      "language": "python",
      "name": "py35"
    },
    "language_info": {
      "codemirror_mode": {
        "name": "ipython",
        "version": 3
      },
      "file_extension": ".py",
      "mimetype": "text/x-python",
      "name": "python",
      "nbconvert_exporter": "python",
      "pygments_lexer": "ipython3",
      "version": "3.5.10"
    },
    "colab": {
      "name": "Filters.ipynb",
      "provenance": [],
      "collapsed_sections": []
    }
  },
  "cells": [
    {
      "cell_type": "code",
      "metadata": {
        "id": "3IOLj1eq-3nM"
      },
      "source": [
        "from quantopian.pipeline import Pipeline\n",
        "from quantopian.research import run_pipeline\n",
        "from quantopian.pipeline.data.builtin import USEquityPricing\n",
        "from quantopian.pipeline.factors import SimpleMovingAverage"
      ],
      "execution_count": null,
      "outputs": []
    },
    {
      "cell_type": "markdown",
      "metadata": {
        "id": "UdPGHfsD-3nV"
      },
      "source": [
        "##Filters\n",
        "A Filter is a function from an asset and a moment in time to a boolean:\n",
        "```\n",
        "F(asset, timestamp) -> boolean\n",
        "```\n",
        "In Pipeline, [Filters](https://www.quantopian.com/help#quantopian_pipeline_filters_Filter) are used for narrowing down the set of securities included in a computation or in the final output of a pipeline. There are two common ways to create a `Filter`: comparison operators and `Factor`/`Classifier` methods.\n",
        "\n",
        "###Comparison Operators\n",
        "Comparison operators on `Factors` and `Classifiers` produce Filters. For now, let's stick to examples using `Factors`. The following example produces a filter that returns `True` whenever the latest close price is above $20."
      ]
    },
    {
      "cell_type": "code",
      "metadata": {
        "id": "vGeOdRLM-3nW"
      },
      "source": [
        "last_close_price = USEquityPricing.close.latest\n",
        "close_price_filter = last_close_price > 20"
      ],
      "execution_count": null,
      "outputs": []
    },
    {
      "cell_type": "markdown",
      "metadata": {
        "id": "URJspmdt-3nc"
      },
      "source": [
        "This example produces a filter that returns True whenever the 10-day mean is below the 30-day mean."
      ]
    },
    {
      "cell_type": "code",
      "metadata": {
        "id": "WMFB-maI-3nd"
      },
      "source": [
        "mean_close_10 = SimpleMovingAverage(inputs=[USEquityPricing.close], window_length=10)\n",
        "mean_close_30 = SimpleMovingAverage(inputs=[USEquityPricing.close], window_length=30)\n",
        "mean_crossover_filter = mean_close_10 < mean_close_30"
      ],
      "execution_count": null,
      "outputs": []
    },
    {
      "cell_type": "markdown",
      "metadata": {
        "id": "Su8nRZht-3nj"
      },
      "source": [
        "Each security will get its own `True` or `False` value each day."
      ]
    },
    {
      "cell_type": "markdown",
      "metadata": {
        "id": "Kb5W9-Zp-3nk"
      },
      "source": [
        "###Factor/Classifier Methods\n",
        "Various methods of the `Factor` and `Classifier` classes return `Filters`. For now, let's stick to `Factor` methods. The `Factor.top(n)` method produces a `Filter` that returns `True` for the top `n` securities of a given `Factor`. The following cell produces a filter that returns `True` for exactly 200 securities every day, indicating that those securities were in the top 200 by last close price across all known securities."
      ]
    },
    {
      "cell_type": "code",
      "metadata": {
        "id": "C4dFw7o5-3nm"
      },
      "source": [
        "last_close_price = USEquityPricing.close.latest\n",
        "top_close_price_filter = last_close_price.top(200)"
      ],
      "execution_count": null,
      "outputs": []
    },
    {
      "cell_type": "markdown",
      "metadata": {
        "id": "a-b99abU-3ns"
      },
      "source": [
        "##Dollar Volume Filter\n",
        "As a starting example, let's create a filter that returns `True` if a security's 30-day average dollar volume is above $10,000,000. To do this, you first need to create an `AverageDollarVolume` factor to compute the 30-day average dollar volume. Let's include the built-in `AverageDollarVolume` factor in the imports:"
      ]
    },
    {
      "cell_type": "code",
      "metadata": {
        "id": "Qs_y9_1w-3nt"
      },
      "source": [
        "from quantopian.pipeline.factors import AverageDollarVolume"
      ],
      "execution_count": null,
      "outputs": []
    },
    {
      "cell_type": "markdown",
      "metadata": {
        "id": "k0A6o147-3ny"
      },
      "source": [
        "Let's instantiate the average dollar volume factor."
      ]
    },
    {
      "cell_type": "code",
      "metadata": {
        "id": "QH5UtG1M-3nz"
      },
      "source": [
        "dollar_volume = AverageDollarVolume(window_length=30)"
      ],
      "execution_count": null,
      "outputs": []
    },
    {
      "cell_type": "markdown",
      "metadata": {
        "id": "BGzim7yY-3n6"
      },
      "source": [
        "By default, `AverageDollarVolume` uses `USEquityPricing.close` and `USEquityPricing.volume` as its `inputs`, so you don't have to specify them."
      ]
    },
    {
      "cell_type": "markdown",
      "metadata": {
        "id": "VZdQ9WKO-3n7"
      },
      "source": [
        "Now that there is a dollar volume factor, you can create a filter with a boolean expression. The following line creates a filter returning `True` for securities with a `dollar_volume` greater than 10,000,000:"
      ]
    },
    {
      "cell_type": "code",
      "metadata": {
        "id": "ny28WmUW-3n8"
      },
      "source": [
        "high_dollar_volume = (dollar_volume > 10000000)"
      ],
      "execution_count": null,
      "outputs": []
    },
    {
      "cell_type": "markdown",
      "metadata": {
        "id": "_v8rQEZJ-3oB"
      },
      "source": [
        "To see what the filter looks like, let's add it as a column to the pipeline, defined in the previous lesson."
      ]
    },
    {
      "cell_type": "code",
      "metadata": {
        "id": "TvLWeY2O-3oC"
      },
      "source": [
        "def make_pipeline():\n",
        "\n",
        "    mean_close_10 = SimpleMovingAverage(inputs=[USEquityPricing.close], window_length=10)\n",
        "    mean_close_30 = SimpleMovingAverage(inputs=[USEquityPricing.close], window_length=30)\n",
        "\n",
        "    percent_difference = (mean_close_10 - mean_close_30) / mean_close_30\n",
        "    \n",
        "    dollar_volume = AverageDollarVolume(window_length=30)\n",
        "    high_dollar_volume = (dollar_volume > 10000000)\n",
        "\n",
        "    return Pipeline(\n",
        "        columns={\n",
        "            'percent_difference': percent_difference,\n",
        "            'high_dollar_volume': high_dollar_volume\n",
        "        }\n",
        "    )"
      ],
      "execution_count": null,
      "outputs": []
    },
    {
      "cell_type": "markdown",
      "metadata": {
        "id": "s3kIYSRf-3oH"
      },
      "source": [
        "If you make and run the pipeline, you now have a column `high_dollar_volume` with a boolean value corresponding to the result of the expression for each security."
      ]
    },
    {
      "cell_type": "code",
      "metadata": {
        "id": "lPeZv3hk-3oI",
        "outputId": "bf90ef34-d1a7-417d-9244-c6f0a4daf574",
        "colab": {
          "referenced_widgets": [
            ""
          ]
        }
      },
      "source": [
        "result = run_pipeline(make_pipeline(), '2015-05-05', '2015-05-05')\n",
        "result"
      ],
      "execution_count": null,
      "outputs": [
        {
          "output_type": "display_data",
          "data": {
            "application/vnd.jupyter.widget-view+json": {
              "model_id": "",
              "version_major": 2,
              "version_minor": 0
            },
            "text/plain": [
              ""
            ]
          },
          "metadata": {
            "tags": []
          }
        },
        {
          "output_type": "display_data",
          "data": {
            "text/html": [
              "<b>Pipeline Execution Time:</b> 1.86 Seconds"
            ],
            "text/plain": [
              "<IPython.core.display.HTML object>"
            ]
          },
          "metadata": {
            "tags": []
          }
        },
        {
          "output_type": "execute_result",
          "data": {
            "text/html": [
              "<div>\n",
              "<table border=\"1\" class=\"dataframe\">\n",
              "  <thead>\n",
              "    <tr style=\"text-align: right;\">\n",
              "      <th></th>\n",
              "      <th></th>\n",
              "      <th>high_dollar_volume</th>\n",
              "      <th>percent_difference</th>\n",
              "    </tr>\n",
              "  </thead>\n",
              "  <tbody>\n",
              "    <tr>\n",
              "      <th rowspan=\"61\" valign=\"top\">2015-05-05 00:00:00+00:00</th>\n",
              "      <th>Equity(2 [HWM])</th>\n",
              "      <td>True</td>\n",
              "      <td>0.017975</td>\n",
              "    </tr>\n",
              "    <tr>\n",
              "      <th>Equity(21 [AAME])</th>\n",
              "      <td>False</td>\n",
              "      <td>-0.002325</td>\n",
              "    </tr>\n",
              "    <tr>\n",
              "      <th>Equity(24 [AAPL])</th>\n",
              "      <td>True</td>\n",
              "      <td>0.016905</td>\n",
              "    </tr>\n",
              "    <tr>\n",
              "      <th>Equity(25 [HWM_PR])</th>\n",
              "      <td>False</td>\n",
              "      <td>0.021544</td>\n",
              "    </tr>\n",
              "    <tr>\n",
              "      <th>Equity(31 [ABAX])</th>\n",
              "      <td>False</td>\n",
              "      <td>-0.019639</td>\n",
              "    </tr>\n",
              "    <tr>\n",
              "      <th>Equity(39 [DDC])</th>\n",
              "      <td>False</td>\n",
              "      <td>0.074730</td>\n",
              "    </tr>\n",
              "    <tr>\n",
              "      <th>Equity(41 [ARCB])</th>\n",
              "      <td>False</td>\n",
              "      <td>0.007067</td>\n",
              "    </tr>\n",
              "    <tr>\n",
              "      <th>Equity(52 [ABM])</th>\n",
              "      <td>False</td>\n",
              "      <td>0.003340</td>\n",
              "    </tr>\n",
              "    <tr>\n",
              "      <th>Equity(53 [ABMD])</th>\n",
              "      <td>True</td>\n",
              "      <td>-0.024682</td>\n",
              "    </tr>\n",
              "    <tr>\n",
              "      <th>Equity(62 [ABT])</th>\n",
              "      <td>True</td>\n",
              "      <td>0.014385</td>\n",
              "    </tr>\n",
              "    <tr>\n",
              "      <th>Equity(64 [GOLD])</th>\n",
              "      <td>True</td>\n",
              "      <td>0.046963</td>\n",
              "    </tr>\n",
              "    <tr>\n",
              "      <th>Equity(66 [AB])</th>\n",
              "      <td>False</td>\n",
              "      <td>0.013488</td>\n",
              "    </tr>\n",
              "    <tr>\n",
              "      <th>Equity(67 [ADSK])</th>\n",
              "      <td>True</td>\n",
              "      <td>-0.003921</td>\n",
              "    </tr>\n",
              "    <tr>\n",
              "      <th>Equity(69 [ACAT])</th>\n",
              "      <td>False</td>\n",
              "      <td>-0.007079</td>\n",
              "    </tr>\n",
              "    <tr>\n",
              "      <th>Equity(70 [VBF])</th>\n",
              "      <td>False</td>\n",
              "      <td>0.005509</td>\n",
              "    </tr>\n",
              "    <tr>\n",
              "      <th>Equity(76 [TAP])</th>\n",
              "      <td>True</td>\n",
              "      <td>-0.008759</td>\n",
              "    </tr>\n",
              "    <tr>\n",
              "      <th>Equity(84 [ACET])</th>\n",
              "      <td>False</td>\n",
              "      <td>-0.056139</td>\n",
              "    </tr>\n",
              "    <tr>\n",
              "      <th>Equity(86 [ACG])</th>\n",
              "      <td>False</td>\n",
              "      <td>0.010096</td>\n",
              "    </tr>\n",
              "    <tr>\n",
              "      <th>Equity(88 [ACI])</th>\n",
              "      <td>False</td>\n",
              "      <td>-0.022089</td>\n",
              "    </tr>\n",
              "    <tr>\n",
              "      <th>Equity(100 [IEP])</th>\n",
              "      <td>False</td>\n",
              "      <td>0.011293</td>\n",
              "    </tr>\n",
              "    <tr>\n",
              "      <th>Equity(106 [ACU])</th>\n",
              "      <td>False</td>\n",
              "      <td>0.003306</td>\n",
              "    </tr>\n",
              "    <tr>\n",
              "      <th>Equity(110 [RAMP])</th>\n",
              "      <td>False</td>\n",
              "      <td>-0.029551</td>\n",
              "    </tr>\n",
              "    <tr>\n",
              "      <th>Equity(112 [ACY])</th>\n",
              "      <td>False</td>\n",
              "      <td>-0.057763</td>\n",
              "    </tr>\n",
              "    <tr>\n",
              "      <th>Equity(114 [ADBE])</th>\n",
              "      <td>True</td>\n",
              "      <td>0.009499</td>\n",
              "    </tr>\n",
              "    <tr>\n",
              "      <th>Equity(117 [AEY])</th>\n",
              "      <td>False</td>\n",
              "      <td>0.012543</td>\n",
              "    </tr>\n",
              "    <tr>\n",
              "      <th>Equity(122 [ADI])</th>\n",
              "      <td>True</td>\n",
              "      <td>0.009271</td>\n",
              "    </tr>\n",
              "    <tr>\n",
              "      <th>Equity(128 [ADM])</th>\n",
              "      <td>True</td>\n",
              "      <td>0.015760</td>\n",
              "    </tr>\n",
              "    <tr>\n",
              "      <th>Equity(134 [SXCL])</th>\n",
              "      <td>False</td>\n",
              "      <td>NaN</td>\n",
              "    </tr>\n",
              "    <tr>\n",
              "      <th>Equity(149 [ADX])</th>\n",
              "      <td>False</td>\n",
              "      <td>0.007232</td>\n",
              "    </tr>\n",
              "    <tr>\n",
              "      <th>Equity(153 [AE])</th>\n",
              "      <td>False</td>\n",
              "      <td>-0.112999</td>\n",
              "    </tr>\n",
              "    <tr>\n",
              "      <th>...</th>\n",
              "      <td>...</td>\n",
              "      <td>...</td>\n",
              "    </tr>\n",
              "    <tr>\n",
              "      <th>Equity(48945 [HLTH])</th>\n",
              "      <td>False</td>\n",
              "      <td>-0.023632</td>\n",
              "    </tr>\n",
              "    <tr>\n",
              "      <th>Equity(48954 [INF_RT])</th>\n",
              "      <td>False</td>\n",
              "      <td>0.000000</td>\n",
              "    </tr>\n",
              "    <tr>\n",
              "      <th>Equity(48955 [ALIN_PRB])</th>\n",
              "      <td>False</td>\n",
              "      <td>0.000000</td>\n",
              "    </tr>\n",
              "    <tr>\n",
              "      <th>Equity(48960 [SMCP])</th>\n",
              "      <td>False</td>\n",
              "      <td>0.000000</td>\n",
              "    </tr>\n",
              "    <tr>\n",
              "      <th>Equity(48961 [NYMT_O])</th>\n",
              "      <td>False</td>\n",
              "      <td>NaN</td>\n",
              "    </tr>\n",
              "    <tr>\n",
              "      <th>Equity(48962 [UNIT])</th>\n",
              "      <td>True</td>\n",
              "      <td>0.000000</td>\n",
              "    </tr>\n",
              "    <tr>\n",
              "      <th>Equity(48963 [PAK])</th>\n",
              "      <td>False</td>\n",
              "      <td>0.000000</td>\n",
              "    </tr>\n",
              "    <tr>\n",
              "      <th>Equity(48969 [NSA])</th>\n",
              "      <td>False</td>\n",
              "      <td>0.000000</td>\n",
              "    </tr>\n",
              "    <tr>\n",
              "      <th>Equity(48971 [BSM])</th>\n",
              "      <td>True</td>\n",
              "      <td>0.000000</td>\n",
              "    </tr>\n",
              "    <tr>\n",
              "      <th>Equity(48972 [EVA])</th>\n",
              "      <td>False</td>\n",
              "      <td>0.000000</td>\n",
              "    </tr>\n",
              "    <tr>\n",
              "      <th>Equity(48981 [APIC])</th>\n",
              "      <td>False</td>\n",
              "      <td>0.000000</td>\n",
              "    </tr>\n",
              "    <tr>\n",
              "      <th>Equity(48989 [UK])</th>\n",
              "      <td>False</td>\n",
              "      <td>0.000000</td>\n",
              "    </tr>\n",
              "    <tr>\n",
              "      <th>Equity(48990 [ACWF])</th>\n",
              "      <td>False</td>\n",
              "      <td>0.000000</td>\n",
              "    </tr>\n",
              "    <tr>\n",
              "      <th>Equity(48991 [ISCF])</th>\n",
              "      <td>False</td>\n",
              "      <td>0.000000</td>\n",
              "    </tr>\n",
              "    <tr>\n",
              "      <th>Equity(48992 [INTF])</th>\n",
              "      <td>False</td>\n",
              "      <td>0.000000</td>\n",
              "    </tr>\n",
              "    <tr>\n",
              "      <th>Equity(48993 [JETS])</th>\n",
              "      <td>False</td>\n",
              "      <td>0.000000</td>\n",
              "    </tr>\n",
              "    <tr>\n",
              "      <th>Equity(48994 [ACTX])</th>\n",
              "      <td>False</td>\n",
              "      <td>0.000000</td>\n",
              "    </tr>\n",
              "    <tr>\n",
              "      <th>Equity(48995 [LRGF])</th>\n",
              "      <td>False</td>\n",
              "      <td>0.000000</td>\n",
              "    </tr>\n",
              "    <tr>\n",
              "      <th>Equity(48996 [SMLF])</th>\n",
              "      <td>False</td>\n",
              "      <td>0.000000</td>\n",
              "    </tr>\n",
              "    <tr>\n",
              "      <th>Equity(48997 [VKTX])</th>\n",
              "      <td>False</td>\n",
              "      <td>0.000000</td>\n",
              "    </tr>\n",
              "    <tr>\n",
              "      <th>Equity(48998 [OPGN])</th>\n",
              "      <td>False</td>\n",
              "      <td>NaN</td>\n",
              "    </tr>\n",
              "    <tr>\n",
              "      <th>Equity(48999 [AAPC])</th>\n",
              "      <td>False</td>\n",
              "      <td>0.000000</td>\n",
              "    </tr>\n",
              "    <tr>\n",
              "      <th>Equity(49000 [BPMC])</th>\n",
              "      <td>False</td>\n",
              "      <td>0.000000</td>\n",
              "    </tr>\n",
              "    <tr>\n",
              "      <th>Equity(49001 [CLCD])</th>\n",
              "      <td>False</td>\n",
              "      <td>NaN</td>\n",
              "    </tr>\n",
              "    <tr>\n",
              "      <th>Equity(49004 [TNP_PRD])</th>\n",
              "      <td>False</td>\n",
              "      <td>0.000000</td>\n",
              "    </tr>\n",
              "    <tr>\n",
              "      <th>Equity(49005 [ARWA_U])</th>\n",
              "      <td>False</td>\n",
              "      <td>NaN</td>\n",
              "    </tr>\n",
              "    <tr>\n",
              "      <th>Equity(49006 [BVXV])</th>\n",
              "      <td>False</td>\n",
              "      <td>NaN</td>\n",
              "    </tr>\n",
              "    <tr>\n",
              "      <th>Equity(49007 [BVXV_W])</th>\n",
              "      <td>False</td>\n",
              "      <td>NaN</td>\n",
              "    </tr>\n",
              "    <tr>\n",
              "      <th>Equity(49008 [OPGN_W])</th>\n",
              "      <td>False</td>\n",
              "      <td>NaN</td>\n",
              "    </tr>\n",
              "    <tr>\n",
              "      <th>Equity(49009 [PRKU])</th>\n",
              "      <td>False</td>\n",
              "      <td>NaN</td>\n",
              "    </tr>\n",
              "  </tbody>\n",
              "</table>\n",
              "<p>8254 rows × 2 columns</p>\n",
              "</div>"
            ],
            "text/plain": [
              "                                                   high_dollar_volume  \\\n",
              "2015-05-05 00:00:00+00:00 Equity(2 [HWM])                        True   \n",
              "                          Equity(21 [AAME])                     False   \n",
              "                          Equity(24 [AAPL])                      True   \n",
              "                          Equity(25 [HWM_PR])                   False   \n",
              "                          Equity(31 [ABAX])                     False   \n",
              "                          Equity(39 [DDC])                      False   \n",
              "                          Equity(41 [ARCB])                     False   \n",
              "                          Equity(52 [ABM])                      False   \n",
              "                          Equity(53 [ABMD])                      True   \n",
              "                          Equity(62 [ABT])                       True   \n",
              "                          Equity(64 [GOLD])                      True   \n",
              "                          Equity(66 [AB])                       False   \n",
              "                          Equity(67 [ADSK])                      True   \n",
              "                          Equity(69 [ACAT])                     False   \n",
              "                          Equity(70 [VBF])                      False   \n",
              "                          Equity(76 [TAP])                       True   \n",
              "                          Equity(84 [ACET])                     False   \n",
              "                          Equity(86 [ACG])                      False   \n",
              "                          Equity(88 [ACI])                      False   \n",
              "                          Equity(100 [IEP])                     False   \n",
              "                          Equity(106 [ACU])                     False   \n",
              "                          Equity(110 [RAMP])                    False   \n",
              "                          Equity(112 [ACY])                     False   \n",
              "                          Equity(114 [ADBE])                     True   \n",
              "                          Equity(117 [AEY])                     False   \n",
              "                          Equity(122 [ADI])                      True   \n",
              "                          Equity(128 [ADM])                      True   \n",
              "                          Equity(134 [SXCL])                    False   \n",
              "                          Equity(149 [ADX])                     False   \n",
              "                          Equity(153 [AE])                      False   \n",
              "...                                                               ...   \n",
              "                          Equity(48945 [HLTH])                  False   \n",
              "                          Equity(48954 [INF_RT])                False   \n",
              "                          Equity(48955 [ALIN_PRB])              False   \n",
              "                          Equity(48960 [SMCP])                  False   \n",
              "                          Equity(48961 [NYMT_O])                False   \n",
              "                          Equity(48962 [UNIT])                   True   \n",
              "                          Equity(48963 [PAK])                   False   \n",
              "                          Equity(48969 [NSA])                   False   \n",
              "                          Equity(48971 [BSM])                    True   \n",
              "                          Equity(48972 [EVA])                   False   \n",
              "                          Equity(48981 [APIC])                  False   \n",
              "                          Equity(48989 [UK])                    False   \n",
              "                          Equity(48990 [ACWF])                  False   \n",
              "                          Equity(48991 [ISCF])                  False   \n",
              "                          Equity(48992 [INTF])                  False   \n",
              "                          Equity(48993 [JETS])                  False   \n",
              "                          Equity(48994 [ACTX])                  False   \n",
              "                          Equity(48995 [LRGF])                  False   \n",
              "                          Equity(48996 [SMLF])                  False   \n",
              "                          Equity(48997 [VKTX])                  False   \n",
              "                          Equity(48998 [OPGN])                  False   \n",
              "                          Equity(48999 [AAPC])                  False   \n",
              "                          Equity(49000 [BPMC])                  False   \n",
              "                          Equity(49001 [CLCD])                  False   \n",
              "                          Equity(49004 [TNP_PRD])               False   \n",
              "                          Equity(49005 [ARWA_U])                False   \n",
              "                          Equity(49006 [BVXV])                  False   \n",
              "                          Equity(49007 [BVXV_W])                False   \n",
              "                          Equity(49008 [OPGN_W])                False   \n",
              "                          Equity(49009 [PRKU])                  False   \n",
              "\n",
              "                                                    percent_difference  \n",
              "2015-05-05 00:00:00+00:00 Equity(2 [HWM])                     0.017975  \n",
              "                          Equity(21 [AAME])                  -0.002325  \n",
              "                          Equity(24 [AAPL])                   0.016905  \n",
              "                          Equity(25 [HWM_PR])                 0.021544  \n",
              "                          Equity(31 [ABAX])                  -0.019639  \n",
              "                          Equity(39 [DDC])                    0.074730  \n",
              "                          Equity(41 [ARCB])                   0.007067  \n",
              "                          Equity(52 [ABM])                    0.003340  \n",
              "                          Equity(53 [ABMD])                  -0.024682  \n",
              "                          Equity(62 [ABT])                    0.014385  \n",
              "                          Equity(64 [GOLD])                   0.046963  \n",
              "                          Equity(66 [AB])                     0.013488  \n",
              "                          Equity(67 [ADSK])                  -0.003921  \n",
              "                          Equity(69 [ACAT])                  -0.007079  \n",
              "                          Equity(70 [VBF])                    0.005509  \n",
              "                          Equity(76 [TAP])                   -0.008759  \n",
              "                          Equity(84 [ACET])                  -0.056139  \n",
              "                          Equity(86 [ACG])                    0.010096  \n",
              "                          Equity(88 [ACI])                   -0.022089  \n",
              "                          Equity(100 [IEP])                   0.011293  \n",
              "                          Equity(106 [ACU])                   0.003306  \n",
              "                          Equity(110 [RAMP])                 -0.029551  \n",
              "                          Equity(112 [ACY])                  -0.057763  \n",
              "                          Equity(114 [ADBE])                  0.009499  \n",
              "                          Equity(117 [AEY])                   0.012543  \n",
              "                          Equity(122 [ADI])                   0.009271  \n",
              "                          Equity(128 [ADM])                   0.015760  \n",
              "                          Equity(134 [SXCL])                       NaN  \n",
              "                          Equity(149 [ADX])                   0.007232  \n",
              "                          Equity(153 [AE])                   -0.112999  \n",
              "...                                                                ...  \n",
              "                          Equity(48945 [HLTH])               -0.023632  \n",
              "                          Equity(48954 [INF_RT])              0.000000  \n",
              "                          Equity(48955 [ALIN_PRB])            0.000000  \n",
              "                          Equity(48960 [SMCP])                0.000000  \n",
              "                          Equity(48961 [NYMT_O])                   NaN  \n",
              "                          Equity(48962 [UNIT])                0.000000  \n",
              "                          Equity(48963 [PAK])                 0.000000  \n",
              "                          Equity(48969 [NSA])                 0.000000  \n",
              "                          Equity(48971 [BSM])                 0.000000  \n",
              "                          Equity(48972 [EVA])                 0.000000  \n",
              "                          Equity(48981 [APIC])                0.000000  \n",
              "                          Equity(48989 [UK])                  0.000000  \n",
              "                          Equity(48990 [ACWF])                0.000000  \n",
              "                          Equity(48991 [ISCF])                0.000000  \n",
              "                          Equity(48992 [INTF])                0.000000  \n",
              "                          Equity(48993 [JETS])                0.000000  \n",
              "                          Equity(48994 [ACTX])                0.000000  \n",
              "                          Equity(48995 [LRGF])                0.000000  \n",
              "                          Equity(48996 [SMLF])                0.000000  \n",
              "                          Equity(48997 [VKTX])                0.000000  \n",
              "                          Equity(48998 [OPGN])                     NaN  \n",
              "                          Equity(48999 [AAPC])                0.000000  \n",
              "                          Equity(49000 [BPMC])                0.000000  \n",
              "                          Equity(49001 [CLCD])                     NaN  \n",
              "                          Equity(49004 [TNP_PRD])             0.000000  \n",
              "                          Equity(49005 [ARWA_U])                   NaN  \n",
              "                          Equity(49006 [BVXV])                     NaN  \n",
              "                          Equity(49007 [BVXV_W])                   NaN  \n",
              "                          Equity(49008 [OPGN_W])                   NaN  \n",
              "                          Equity(49009 [PRKU])                     NaN  \n",
              "\n",
              "[8254 rows x 2 columns]"
            ]
          },
          "metadata": {
            "tags": []
          },
          "execution_count": 9
        }
      ]
    },
    {
      "cell_type": "markdown",
      "metadata": {
        "id": "zg2j1dWL-3oN"
      },
      "source": [
        "##Applying a Screen\n",
        "By default, a pipeline produces computed values each day for every asset in the Quantopian database. Very often however, you only care about a subset of securities that meet specific criteria (for example, we might only care about securities that have enough daily trading volume to fill orders quickly). You can tell the Pipeline to ignore securities for which a filter produces `False` by passing that filter to the Pipeline via the `screen` keyword.\n",
        "\n",
        "To screen the pipeline output for securities with a 30-day average dollar volume greater than $10,000,000, you can simply pass the `high_dollar_volume` filter as the `screen` argument. This is what the `make_pipeline` function now looks like:"
      ]
    },
    {
      "cell_type": "code",
      "metadata": {
        "id": "BdHYXRMp-3oP"
      },
      "source": [
        "def make_pipeline():\n",
        "\n",
        "    mean_close_10 = SimpleMovingAverage(inputs=[USEquityPricing.close], window_length=10)\n",
        "    mean_close_30 = SimpleMovingAverage(inputs=[USEquityPricing.close], window_length=30)\n",
        "\n",
        "    percent_difference = (mean_close_10 - mean_close_30) / mean_close_30\n",
        "\n",
        "    dollar_volume = AverageDollarVolume(window_length=30)\n",
        "    high_dollar_volume = dollar_volume > 10000000\n",
        "\n",
        "    return Pipeline(\n",
        "        columns={\n",
        "            'percent_difference': percent_difference\n",
        "        },\n",
        "        screen=high_dollar_volume\n",
        "    )"
      ],
      "execution_count": null,
      "outputs": []
    },
    {
      "cell_type": "markdown",
      "metadata": {
        "id": "UmaPEwts-3oU"
      },
      "source": [
        "When you run this, the pipeline output only includes securities that pass the `high_dollar_volume` filter on a given day. For example, running the pipeline on May 5th, 2015 results in an output for ~2,100 securities"
      ]
    },
    {
      "cell_type": "code",
      "metadata": {
        "id": "ogkiG-Fz-3oV",
        "outputId": "0f683410-87cb-4e44-ecda-6ef85632a729",
        "colab": {
          "referenced_widgets": [
            ""
          ]
        }
      },
      "source": [
        "result = run_pipeline(make_pipeline(), '2015-05-05', '2015-05-05')\n",
        "print 'Number of securities that passed the filter: %d' % len(result)\n",
        "result"
      ],
      "execution_count": null,
      "outputs": [
        {
          "output_type": "display_data",
          "data": {
            "application/vnd.jupyter.widget-view+json": {
              "model_id": "",
              "version_major": 2,
              "version_minor": 0
            },
            "text/plain": [
              ""
            ]
          },
          "metadata": {
            "tags": []
          }
        },
        {
          "output_type": "display_data",
          "data": {
            "text/html": [
              "<b>Pipeline Execution Time:</b> 0.58 Seconds"
            ],
            "text/plain": [
              "<IPython.core.display.HTML object>"
            ]
          },
          "metadata": {
            "tags": []
          }
        },
        {
          "output_type": "stream",
          "text": [
            "Number of securities that passed the filter: 2106\n"
          ],
          "name": "stdout"
        },
        {
          "output_type": "execute_result",
          "data": {
            "text/html": [
              "<div>\n",
              "<table border=\"1\" class=\"dataframe\">\n",
              "  <thead>\n",
              "    <tr style=\"text-align: right;\">\n",
              "      <th></th>\n",
              "      <th></th>\n",
              "      <th>percent_difference</th>\n",
              "    </tr>\n",
              "  </thead>\n",
              "  <tbody>\n",
              "    <tr>\n",
              "      <th rowspan=\"61\" valign=\"top\">2015-05-05 00:00:00+00:00</th>\n",
              "      <th>Equity(2 [HWM])</th>\n",
              "      <td>0.017975</td>\n",
              "    </tr>\n",
              "    <tr>\n",
              "      <th>Equity(24 [AAPL])</th>\n",
              "      <td>0.016905</td>\n",
              "    </tr>\n",
              "    <tr>\n",
              "      <th>Equity(53 [ABMD])</th>\n",
              "      <td>-0.024682</td>\n",
              "    </tr>\n",
              "    <tr>\n",
              "      <th>Equity(62 [ABT])</th>\n",
              "      <td>0.014385</td>\n",
              "    </tr>\n",
              "    <tr>\n",
              "      <th>Equity(64 [GOLD])</th>\n",
              "      <td>0.046963</td>\n",
              "    </tr>\n",
              "    <tr>\n",
              "      <th>Equity(67 [ADSK])</th>\n",
              "      <td>-0.003921</td>\n",
              "    </tr>\n",
              "    <tr>\n",
              "      <th>Equity(76 [TAP])</th>\n",
              "      <td>-0.008759</td>\n",
              "    </tr>\n",
              "    <tr>\n",
              "      <th>Equity(114 [ADBE])</th>\n",
              "      <td>0.009499</td>\n",
              "    </tr>\n",
              "    <tr>\n",
              "      <th>Equity(122 [ADI])</th>\n",
              "      <td>0.009271</td>\n",
              "    </tr>\n",
              "    <tr>\n",
              "      <th>Equity(128 [ADM])</th>\n",
              "      <td>0.015760</td>\n",
              "    </tr>\n",
              "    <tr>\n",
              "      <th>Equity(154 [AEM])</th>\n",
              "      <td>0.026035</td>\n",
              "    </tr>\n",
              "    <tr>\n",
              "      <th>Equity(161 [AEP])</th>\n",
              "      <td>0.010405</td>\n",
              "    </tr>\n",
              "    <tr>\n",
              "      <th>Equity(166 [AES])</th>\n",
              "      <td>0.022158</td>\n",
              "    </tr>\n",
              "    <tr>\n",
              "      <th>Equity(168 [AET])</th>\n",
              "      <td>0.005853</td>\n",
              "    </tr>\n",
              "    <tr>\n",
              "      <th>Equity(185 [AFL])</th>\n",
              "      <td>-0.002239</td>\n",
              "    </tr>\n",
              "    <tr>\n",
              "      <th>Equity(197 [AGCO])</th>\n",
              "      <td>0.032124</td>\n",
              "    </tr>\n",
              "    <tr>\n",
              "      <th>Equity(216 [HES])</th>\n",
              "      <td>0.036528</td>\n",
              "    </tr>\n",
              "    <tr>\n",
              "      <th>Equity(239 [AIG])</th>\n",
              "      <td>0.012322</td>\n",
              "    </tr>\n",
              "    <tr>\n",
              "      <th>Equity(253 [AIR])</th>\n",
              "      <td>-0.012412</td>\n",
              "    </tr>\n",
              "    <tr>\n",
              "      <th>Equity(266 [AJG])</th>\n",
              "      <td>0.012267</td>\n",
              "    </tr>\n",
              "    <tr>\n",
              "      <th>Equity(270 [AKRX])</th>\n",
              "      <td>-0.024963</td>\n",
              "    </tr>\n",
              "    <tr>\n",
              "      <th>Equity(273 [ALU])</th>\n",
              "      <td>-0.021750</td>\n",
              "    </tr>\n",
              "    <tr>\n",
              "      <th>Equity(300 [ALK])</th>\n",
              "      <td>0.015147</td>\n",
              "    </tr>\n",
              "    <tr>\n",
              "      <th>Equity(301 [ALKS])</th>\n",
              "      <td>-0.033228</td>\n",
              "    </tr>\n",
              "    <tr>\n",
              "      <th>Equity(328 [ALTR])</th>\n",
              "      <td>0.012284</td>\n",
              "    </tr>\n",
              "    <tr>\n",
              "      <th>Equity(337 [AMAT])</th>\n",
              "      <td>-0.050162</td>\n",
              "    </tr>\n",
              "    <tr>\n",
              "      <th>Equity(351 [AMD])</th>\n",
              "      <td>-0.101477</td>\n",
              "    </tr>\n",
              "    <tr>\n",
              "      <th>Equity(353 [AME])</th>\n",
              "      <td>-0.003008</td>\n",
              "    </tr>\n",
              "    <tr>\n",
              "      <th>Equity(357 [TWX])</th>\n",
              "      <td>0.000365</td>\n",
              "    </tr>\n",
              "    <tr>\n",
              "      <th>Equity(368 [AMGN])</th>\n",
              "      <td>0.008860</td>\n",
              "    </tr>\n",
              "    <tr>\n",
              "      <th>...</th>\n",
              "      <td>...</td>\n",
              "    </tr>\n",
              "    <tr>\n",
              "      <th>Equity(48091 [VA])</th>\n",
              "      <td>-0.005665</td>\n",
              "    </tr>\n",
              "    <tr>\n",
              "      <th>Equity(48103 [STOR])</th>\n",
              "      <td>-0.045272</td>\n",
              "    </tr>\n",
              "    <tr>\n",
              "      <th>Equity(48104 [PGRE])</th>\n",
              "      <td>-0.008569</td>\n",
              "    </tr>\n",
              "    <tr>\n",
              "      <th>Equity(48126 [HABT])</th>\n",
              "      <td>0.063080</td>\n",
              "    </tr>\n",
              "    <tr>\n",
              "      <th>Equity(48129 [UBS])</th>\n",
              "      <td>0.025888</td>\n",
              "    </tr>\n",
              "    <tr>\n",
              "      <th>Equity(48169 [KLXI])</th>\n",
              "      <td>0.021062</td>\n",
              "    </tr>\n",
              "    <tr>\n",
              "      <th>Equity(48215 [QSR])</th>\n",
              "      <td>0.037460</td>\n",
              "    </tr>\n",
              "    <tr>\n",
              "      <th>Equity(48220 [LC])</th>\n",
              "      <td>-0.035048</td>\n",
              "    </tr>\n",
              "    <tr>\n",
              "      <th>Equity(48317 [JUNO])</th>\n",
              "      <td>-0.103370</td>\n",
              "    </tr>\n",
              "    <tr>\n",
              "      <th>Equity(48384 [QRVO])</th>\n",
              "      <td>-0.050578</td>\n",
              "    </tr>\n",
              "    <tr>\n",
              "      <th>Equity(48465 [SWNC])</th>\n",
              "      <td>0.061669</td>\n",
              "    </tr>\n",
              "    <tr>\n",
              "      <th>Equity(48486 [BOX])</th>\n",
              "      <td>-0.003837</td>\n",
              "    </tr>\n",
              "    <tr>\n",
              "      <th>Equity(48531 [VSTO])</th>\n",
              "      <td>0.017196</td>\n",
              "    </tr>\n",
              "    <tr>\n",
              "      <th>Equity(48543 [SHAK])</th>\n",
              "      <td>0.175877</td>\n",
              "    </tr>\n",
              "    <tr>\n",
              "      <th>Equity(48544 [HIFR])</th>\n",
              "      <td>0.027339</td>\n",
              "    </tr>\n",
              "    <tr>\n",
              "      <th>Equity(48547 [ONCE])</th>\n",
              "      <td>-0.112191</td>\n",
              "    </tr>\n",
              "    <tr>\n",
              "      <th>Equity(48575 [XHR])</th>\n",
              "      <td>-0.008521</td>\n",
              "    </tr>\n",
              "    <tr>\n",
              "      <th>Equity(48629 [INOV])</th>\n",
              "      <td>-0.068366</td>\n",
              "    </tr>\n",
              "    <tr>\n",
              "      <th>Equity(48662 [JPM_PRFCL])</th>\n",
              "      <td>0.002978</td>\n",
              "    </tr>\n",
              "    <tr>\n",
              "      <th>Equity(48672 [TOTL])</th>\n",
              "      <td>0.000991</td>\n",
              "    </tr>\n",
              "    <tr>\n",
              "      <th>Equity(48730 [AGN_PRA])</th>\n",
              "      <td>-0.008843</td>\n",
              "    </tr>\n",
              "    <tr>\n",
              "      <th>Equity(48821 [CJES])</th>\n",
              "      <td>0.099492</td>\n",
              "    </tr>\n",
              "    <tr>\n",
              "      <th>Equity(48823 [SEDG])</th>\n",
              "      <td>0.056643</td>\n",
              "    </tr>\n",
              "    <tr>\n",
              "      <th>Equity(48863 [GDDY])</th>\n",
              "      <td>-0.003563</td>\n",
              "    </tr>\n",
              "    <tr>\n",
              "      <th>Equity(48892 [IGT])</th>\n",
              "      <td>0.005591</td>\n",
              "    </tr>\n",
              "    <tr>\n",
              "      <th>Equity(48925 [ADRO])</th>\n",
              "      <td>-0.076840</td>\n",
              "    </tr>\n",
              "    <tr>\n",
              "      <th>Equity(48933 [PRTY])</th>\n",
              "      <td>-0.001741</td>\n",
              "    </tr>\n",
              "    <tr>\n",
              "      <th>Equity(48934 [ETSY])</th>\n",
              "      <td>-0.030142</td>\n",
              "    </tr>\n",
              "    <tr>\n",
              "      <th>Equity(48962 [UNIT])</th>\n",
              "      <td>0.000000</td>\n",
              "    </tr>\n",
              "    <tr>\n",
              "      <th>Equity(48971 [BSM])</th>\n",
              "      <td>0.000000</td>\n",
              "    </tr>\n",
              "  </tbody>\n",
              "</table>\n",
              "<p>2106 rows × 1 columns</p>\n",
              "</div>"
            ],
            "text/plain": [
              "                                                     percent_difference\n",
              "2015-05-05 00:00:00+00:00 Equity(2 [HWM])                      0.017975\n",
              "                          Equity(24 [AAPL])                    0.016905\n",
              "                          Equity(53 [ABMD])                   -0.024682\n",
              "                          Equity(62 [ABT])                     0.014385\n",
              "                          Equity(64 [GOLD])                    0.046963\n",
              "                          Equity(67 [ADSK])                   -0.003921\n",
              "                          Equity(76 [TAP])                    -0.008759\n",
              "                          Equity(114 [ADBE])                   0.009499\n",
              "                          Equity(122 [ADI])                    0.009271\n",
              "                          Equity(128 [ADM])                    0.015760\n",
              "                          Equity(154 [AEM])                    0.026035\n",
              "                          Equity(161 [AEP])                    0.010405\n",
              "                          Equity(166 [AES])                    0.022158\n",
              "                          Equity(168 [AET])                    0.005853\n",
              "                          Equity(185 [AFL])                   -0.002239\n",
              "                          Equity(197 [AGCO])                   0.032124\n",
              "                          Equity(216 [HES])                    0.036528\n",
              "                          Equity(239 [AIG])                    0.012322\n",
              "                          Equity(253 [AIR])                   -0.012412\n",
              "                          Equity(266 [AJG])                    0.012267\n",
              "                          Equity(270 [AKRX])                  -0.024963\n",
              "                          Equity(273 [ALU])                   -0.021750\n",
              "                          Equity(300 [ALK])                    0.015147\n",
              "                          Equity(301 [ALKS])                  -0.033228\n",
              "                          Equity(328 [ALTR])                   0.012284\n",
              "                          Equity(337 [AMAT])                  -0.050162\n",
              "                          Equity(351 [AMD])                   -0.101477\n",
              "                          Equity(353 [AME])                   -0.003008\n",
              "                          Equity(357 [TWX])                    0.000365\n",
              "                          Equity(368 [AMGN])                   0.008860\n",
              "...                                                                 ...\n",
              "                          Equity(48091 [VA])                  -0.005665\n",
              "                          Equity(48103 [STOR])                -0.045272\n",
              "                          Equity(48104 [PGRE])                -0.008569\n",
              "                          Equity(48126 [HABT])                 0.063080\n",
              "                          Equity(48129 [UBS])                  0.025888\n",
              "                          Equity(48169 [KLXI])                 0.021062\n",
              "                          Equity(48215 [QSR])                  0.037460\n",
              "                          Equity(48220 [LC])                  -0.035048\n",
              "                          Equity(48317 [JUNO])                -0.103370\n",
              "                          Equity(48384 [QRVO])                -0.050578\n",
              "                          Equity(48465 [SWNC])                 0.061669\n",
              "                          Equity(48486 [BOX])                 -0.003837\n",
              "                          Equity(48531 [VSTO])                 0.017196\n",
              "                          Equity(48543 [SHAK])                 0.175877\n",
              "                          Equity(48544 [HIFR])                 0.027339\n",
              "                          Equity(48547 [ONCE])                -0.112191\n",
              "                          Equity(48575 [XHR])                 -0.008521\n",
              "                          Equity(48629 [INOV])                -0.068366\n",
              "                          Equity(48662 [JPM_PRFCL])            0.002978\n",
              "                          Equity(48672 [TOTL])                 0.000991\n",
              "                          Equity(48730 [AGN_PRA])             -0.008843\n",
              "                          Equity(48821 [CJES])                 0.099492\n",
              "                          Equity(48823 [SEDG])                 0.056643\n",
              "                          Equity(48863 [GDDY])                -0.003563\n",
              "                          Equity(48892 [IGT])                  0.005591\n",
              "                          Equity(48925 [ADRO])                -0.076840\n",
              "                          Equity(48933 [PRTY])                -0.001741\n",
              "                          Equity(48934 [ETSY])                -0.030142\n",
              "                          Equity(48962 [UNIT])                 0.000000\n",
              "                          Equity(48971 [BSM])                  0.000000\n",
              "\n",
              "[2106 rows x 1 columns]"
            ]
          },
          "metadata": {
            "tags": []
          },
          "execution_count": 11
        }
      ]
    },
    {
      "cell_type": "markdown",
      "metadata": {
        "id": "xI8s70tI-3ob"
      },
      "source": [
        "##Inverting a Filter\n",
        "The `~` operator is used to invert a filter, swapping all `True` values with `Falses` and vice-versa. For example, you can write the following to filter for low dollar volume securities:"
      ]
    },
    {
      "cell_type": "code",
      "metadata": {
        "id": "ITKfQNYF-3oc"
      },
      "source": [
        "low_dollar_volume = ~high_dollar_volume"
      ],
      "execution_count": null,
      "outputs": []
    },
    {
      "cell_type": "markdown",
      "metadata": {
        "id": "GN5Ds9da-3og"
      },
      "source": [
        "This will return `True` for all securities with an average dollar volume below or equal to $10,000,000 over the last 30 days."
      ]
    }
  ]
}