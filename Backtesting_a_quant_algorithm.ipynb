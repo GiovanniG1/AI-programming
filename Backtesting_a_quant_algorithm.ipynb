{
  "nbformat": 4,
  "nbformat_minor": 0,
  "metadata": {
    "colab": {
      "name": "Backtesting_a_quant_algorithm.ipynb",
      "provenance": [],
      "collapsed_sections": []
    },
    "kernelspec": {
      "name": "python3",
      "display_name": "Python 3"
    }
  },
  "cells": [
    {
      "cell_type": "markdown",
      "metadata": {
        "id": "yg3qoeIT1k_l"
      },
      "source": [
        "## Confidentiality\n",
        "\n",
        "This notebook is downloaded from Quantopian and is for demonstrational purposes only.\n",
        "\n",
        "Please do not copy or distribute this notebook."
      ]
    },
    {
      "cell_type": "markdown",
      "metadata": {
        "id": "orSp1Bflfk6g"
      },
      "source": [
        "\n",
        "## Introduction\n",
        "\n",
        "This notebook can't be run in Google Colab and should be run in Quantopian Research and Quantopian IDE."
      ]
    },
    {
      "cell_type": "code",
      "metadata": {
        "id": "VHT6QCQ-y_9E"
      },
      "source": [
        "from quantopian.pipeline import Pipeline\n",
        "\n",
        "def initialize(context):\n",
        "    my_pipe = make_pipeline()\n",
        "\n",
        "def make_pipeline():\n",
        "    return Pipeline()\n"
      ],
      "execution_count": null,
      "outputs": []
    },
    {
      "cell_type": "markdown",
      "metadata": {
        "id": "0hTdFn-pzGqg"
      },
      "source": [
        "## Attaching a Pipe\n",
        "\n",
        "In research, A make_pipeline was run to create an instance of a pipeline object and run_pipeline was used to run the pipeline over a specified date range. You cannot safely do this in an algorithm, so the simulation has to be allowed to run the pipeline for you. In order for the simulation to run the pipeline, you must attach the pipeline with attach_pipeline.\n",
        "\n",
        "The attach_pipeline function requires two arguments: a reference to the Pipeline object, and a string name for the pipeline which can be decided arbitrarily. Let's import attach_pipeline and attach the empty pipeline in the skeleton example."
      ]
    },
    {
      "cell_type": "code",
      "metadata": {
        "id": "Do9qSsNJzHlw"
      },
      "source": [
        "import quantopian.algorithm as algo\n",
        "from quantopian.pipeline import Pipeline\n",
        "\n",
        "def initialize(context):\n",
        "    my_pipe = make_pipeline()\n",
        "    algo.attach_pipeline(my_pipe, 'my_pipeline')\n",
        "\n",
        "def make_pipeline():\n",
        "    return Pipeline()"
      ],
      "execution_count": null,
      "outputs": []
    },
    {
      "cell_type": "markdown",
      "metadata": {
        "id": "Gy3kCXR7zVkd"
      },
      "source": [
        "Now that the pipeline is attached, it will be run once each day of the simulation. If an algorithm is backtested or live traded from Monday, June 6, 2016 to Friday, Jun 10, 2016, the pipeline will be run once on each day of the week (5 times total). Attaching the pipeline will produce a new output dataframe each day. The daily output is similar to the output of run_pipeline in research. However, the output dataframe in the algorithm will not include the date in the index, as the current simulation date is implied to be the date of the pipeline computations."
      ]
    },
    {
      "cell_type": "markdown",
      "metadata": {
        "id": "BfPQsq_XzcfN"
      },
      "source": [
        "## Pipeline Output\n",
        "\n",
        "The daily output of the pipeline can be retrieved using pipeline_output in before_trading_start. pipeline_output requires the name of the attached pipeline as an argument and returns the output dataframe for the current date in the simulation. Let's import pipeline_output and modify the skeleton example to store the pipeline output in context each day."
      ]
    },
    {
      "cell_type": "code",
      "metadata": {
        "id": "lMP9z3-7zYi9"
      },
      "source": [
        "import quantopian.algorithm as algo\n",
        "from quantopian.pipeline import Pipeline\n",
        "\n",
        "def initialize(context):\n",
        "    my_pipe = make_pipeline()\n",
        "    algo.attach_pipeline(my_pipe, 'my_pipeline')\n",
        "\n",
        "def make_pipeline():\n",
        "    return Pipeline()\n",
        "\n",
        "def before_trading_start(context, data):\n",
        "    # Storing the pipeline output DataFrame in context.\n",
        "    context.output = algo.pipeline_output('my_pipeline')"
      ],
      "execution_count": null,
      "outputs": []
    },
    {
      "cell_type": "markdown",
      "metadata": {
        "id": "abU-HlrDzqlX"
      },
      "source": [
        "The skeleton example now produces an empy dataframe with 8000+ rows and 0 columns each day. The output dataframe will look like this (note that the index is no longer a MultiIndex as it was in research):\n",
        "\n",
        "![image.png](data:image/png;base64,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)"
      ]
    },
    {
      "cell_type": "markdown",
      "metadata": {
        "id": "ei8YhYYI0TYC"
      },
      "source": [
        "## Using the Pipeline From Research\n",
        "\n",
        "To include the pipeline that was created in the previous algorithm, you can simply copy the make_pipeline function that was wrote in research to the algorithm as well as the required import statements. The following will run the pipeline and store the output dataframe with 150 rows and 2 columns (longs and shorts) in context each day."
      ]
    },
    {
      "cell_type": "code",
      "metadata": {
        "id": "h1438N4Ezxsc"
      },
      "source": [
        "import quantopian.algorithm as algo\n",
        "from quantopian.pipeline import Pipeline\n",
        "from quantopian.pipeline.data.builtin import USEquityPricing\n",
        "from quantopian.pipeline.factors import SimpleMovingAverage\n",
        "from quantopian.pipeline.filters import QTradableStocksUS\n",
        "\n",
        "def initialize(context):\n",
        "    my_pipe = make_pipeline()\n",
        "    algo.attach_pipeline(my_pipe, 'my_pipeline')\n",
        "\n",
        "def make_pipeline():\n",
        "    \"\"\"\n",
        "    Creating the pipeline.\n",
        "    \"\"\"\n",
        "\n",
        "    # Base universe set to the QTradableStocksUS.\n",
        "    base_universe = QTradableStocksUS()\n",
        "\n",
        "    # 10-day close price average.\n",
        "    mean_10 = SimpleMovingAverage(\n",
        "        inputs=[USEquityPricing.close],\n",
        "        window_length=10,\n",
        "        mask=base_universe\n",
        "    )\n",
        "\n",
        "    # 30-day close price average.\n",
        "    mean_30 = SimpleMovingAverage(\n",
        "        inputs=[USEquityPricing.close],\n",
        "        window_length=30,\n",
        "        mask=base_universe\n",
        "    )\n",
        "\n",
        "    percent_difference = (mean_10 - mean_30) / mean_30\n",
        "\n",
        "    # Filtering to select securities to short.\n",
        "    shorts = percent_difference.top(75)\n",
        "\n",
        "    # Filtering to select securities to long.\n",
        "    longs = percent_difference.bottom(75)\n",
        "\n",
        "    # Filtering for all securities that you want to trade.\n",
        "    securities_to_trade = (shorts | longs)\n",
        "\n",
        "    return Pipeline(\n",
        "        columns={\n",
        "            'longs': longs,\n",
        "            'shorts': shorts\n",
        "        },\n",
        "        screen=(securities_to_trade),\n",
        "    )\n",
        "\n",
        "def before_trading_start(context, data):\n",
        "    # Storing the pipeline output DataFrame in context\n",
        "    context.output = algo.pipeline_output('my_pipeline')"
      ],
      "execution_count": null,
      "outputs": []
    },
    {
      "cell_type": "markdown",
      "metadata": {
        "id": "m8_VvLvD0gi6"
      },
      "source": [
        "The output from this pipeline will look something like this every day:\n",
        "\n",
        "\n",
        "![image.png](data:image/png;base64,iVBORw0KGgoAAAANSUhEUgAAAQEAAAC1CAYAAABfwEoqAAAgAElEQVR4Ae2dCbQdRfHGERUFFRAERCCCohI2RQGNIYZNRFZFJUByomEHQZGgBhGJsguyiKwqyhKIsgVFw6poJGASUBZBIUEhSCCi4I4izv/82v936Vuvp+fe1/dO3iRd50zmzvR0dXVN9Tc9PS/1LVVkyR7IHliiPbDUEt373PnsgeyBIoNADoLsgSXcA20gsNRSSxV5yz7IMbD4x4CPewNAwC/Mv7MHUj0AoDRVmmx7zOe2X213yBbGFOWy7IFOPNDkmGqy7bF7Y/uVQSDmrVyW7AEbcMkKa1TQZNtjbrL9yiAQ81YuS/aADbhkhTUqaLLtMTfZfmUQiHkrlyV7wAZcssIaFTTZ9pibbL8yCMS8lcuSPWADLllhjQqabHvMTbZfGQRi3splyR6wAZessEYFTbY95ibbrwwCMW/lsmQP2IBLVlijgibbHnOT7VcGgZi3clmyB2zAofCWW24pxo4dW5xxxhnJ+vupIGR7rL2m9iuDQOyu5rJkD4QG0nnnnef+MnW33XZL1t9PBSHbY+3V0a+nn366uOGGG4q///3vMVOiZbZfGQSi7sqFqR6wAYe+OgZLqt3UD9ke06t+ffjDH45dllR29NFHO7t+/etfD1qP7VcGgUG7MlfsxAM24KijweLPBB5//PFijz32KF73ute5ba+99irmzp3bauLyyy8v3vSmNxU//OEPiwMOOKBYbbXVis0226w466yzWtfw49vf/naxyy67FK985SuL1772ta4O9b72ta8Vf/jDH4pDDz202GCDDYpVVlml2HXXXd31bQq8g5DtMR3q17hx44pPfepTzsZ3vvOdxTnnnONpLYqqvh522GHF8OHDC576H/vYx4oVV1yxuPnmm53f6Bd2rb322q5vP/7xj53uY489thg5cqS7dssttyw+//nPF//5z3/a2tWB7VcGAXkm7/viARtwNKLBIhD417/+Vay77rouuF/1qle5wUO9N7zhDcUTTzzh7FKdZZddtnjxi19cvPnNb3bXc92cOXPcNd/5znfcOQbQueee6wYS5XvuuWfBk3PSpEmuHPAYM2ZMseaaaxYMnjIJ2R7TIRtf9rKXDbDxzjvvdM100lfAkLY32mijtj7usMMOxUte8hJ37h3veEexxRZbFDNnziyuv/56d27YsGEFAPTWt7612Gabbcq65a71CzMI+N7Iv3vugdBA0mARCFx00UUuMN/4xjcWf/rTn4p//vOfLoip++Uvf9nZpDpLL7108dBDD7lzTLu55nOf+5w7/vjHP+6OteB42mmnueMjjjjClb/97W93xwzkf//738Xzzz/v2nKFgX9Ctsd0+Db+5je/cRrpI3qOOuood9xJXwUCPPUvvvji4o9//KOzFQWvfvWrnT7/deDwww9359773vcWTz31lGvnb3/7m9uH/rH9yiAQ8lI+1zMP2IBDsQaLQOAzn/mMC+KPfvSjrXZPOukkd07v16rDU14CQKCfVweEwc8xU2gGOXuOjz/+eFd+6qmnumPO8dT8xje+UTplpgLXWYnpkI3rrbdeq5q1sZO+CgSw30oIBG6//fbipS99qbMX4AAUn3nmGVu1dWz71dZLW9iqlX9kDwzSA6GY0mARCHz2s591Acy7vuTMM89053i6IarDe7xEg14gwDv0u9/9blfv5S9/uduPGDHCzS5U57rrrnPTZexi0yxB5f4+ZDvlZTo6sbGTvgoEvvrVr/rmuN8hEKDgvvvuc2sh6hevPP/9738H1OeE7VcGgaCb8sleecAGHHo1WAQCV155pQtM3mWZoiO8s1P3kEMOcce2DidDIPCWt7yleP/73+8W/H7/+9+7uvrHHxSqu84666h4wD5ke0xHJzZ20tcYCLDYiV2/+MUvWvb6Nt1xxx3FMsss46555JFHWtf4P2y/Mgj43sm/e+4BG3A0YAcLT3BW8Ll2/fXXL0aNGuV+swj2wAMPOJtsHU5qIGsm8POf/9zVY21h7733Lg488MDi/PPPL+bPn+90MEvYf//9C9YKBDKjR492ZaF/QrbHdHRiYyd9jYGAyvjqMGHChGL69OnuiwevTbxC8Srwohe9qGAm9I9//CPULecjvyCDgO+N/LvnHggNpNBg+e1vf1tstdVWLnipw0Dmc6AkVMeCAJ/emAlQ39+YQjMgdtxxRzdAVLbpppu6abTasHuusxLT0YmN6KvqqwZ66HXgpz/9aaHFyeWXX76YNm1accIJJ7Se/tjMVw9mHGVi+9XWS1tYpiSfzx7o1APdxtSzzz7rvo93ql/XPffcc+7TIgt+LJQtWLCguP/++4uddtrJAcLVV1/tLuUv7ZgZ/PWvf1XV0n2Z7d3oKFVeFMVg+4pOvhj4rwEshPL6w/kqsf3KIFDlsVye5AEbcEnKIpUffvhhN9h5neCPjFgd/9nPfub+1oDPir/61a8itcNFddkebr1/Z22/Mgj0z9dZc2Alup9O2XfffdumxQT7a17zmuLCCy8cVLN2sAxKyRCsZPuVQWAI3qTFySQbcP3uG1NsZgBM/3kt4HiwUrftg7Wz23q2XxkEuvVgvr4rD9iA66ryIr64ybbHXGf7lUEg5q1cluwBG3DJCmtU0GTbY26y/cogEPNWLkv2gA24ZIU1Kmiy7TE32X5lEIh5K5cle8AGXLLCGhU02faYm2y/MgjEvJXLkj1gAy5ZYY0Kmmx7zE22XwNAgAvyln2QY2DxjgEfJAaAgF+Yf2cPpHrAPnVS9dVZv8m2x/xk+5VBIOatXJbsARtwyQprVNBk22Nusv3KIBDzVi5L9oANuGSFNSposu0xN9l+ZRCIeSuXJXvABlyywhoVNNn2mJtsvzIIxLyVy5I9YAMuWWGNCppse8xNtl8ZBGLeymXJHrABl6ywRgVNtj3mJtuvDAIxb+WyZA/YgEtWWKOCJtsec5PtVwaBmLdyWbIHbMAlK6xRQZNtj7nJ9mvIgMCjjz5awLwiRpVYJwZbRoop5WUfrI7UevzXVjLTlOV/S9U/1OrbgBtq9sXs6bXtJAcl2/CiFtuvShAgpxmV7AbNUS/l61//umvjQx/6UEstSRkHQ77IIFtrrbVcLjZSMEHgQL56EjDSD35DEwXJBSIGF9vHe+65p2ULP37yk5+4/G1cR4LHkJDmydfj58kjk66yxZInHkorX3xfwzBjhaQZ0k2yTMSvQ9mqq67q6KjIv0fKLQksPKpLkk38sskmm7j8+/irX0KbvkATxn0o23gYDBWxtmMX+QFDtut+xGwnVbnPmxC7tp9ltl9td8gWYoiCDFIDMrhqU862XhnLE/LGG290ueGkc7Dki2RcpS/oQ04//fTi9a9/ffGJT3yi+OQnP+myzVD+hS98wZVfeuml7nqSW+6+++6tTSmbGbxf/OIXHbUU9diqQICEl9/61reKxx57TN1xfHLUhW+PveWok6/VhrLkooABTZYclSnoVEf3Z+eddy5WXnlldx1AIqC79dZbHZsP9QEBRODXa0BvdTiQWQh+PGZBbNiO3Tpm7+fN8/Usit/4ygogwHly+fl2+4Br6+i48SDAIAoJ3GqQRhB4BP4VV1xREIikkJZjKOeYMgnpkjn3ve99z50S4SRUUgiZWwkQHC7yRTKrwu5CvQcffFCq3GsE58i6SrJFuOBsKmmfnPHTn/6008vARkR0AT1VSCC9xA6ILjfeeGP3uwoE3vOe9wxQBYCi57LLLivIeweXnC8a0MomC4mm5KabbnJ1N998c7e3IODfH2YYG264obvOJ9dQAAsE0I2d+ItMvf0Q+lsmpAjnHlshdTazt7PPPtuBt1iIuKdkDfIF7r3vfve7rVPM3khZDqchPAa33HJLq6zbHyHb5UMAICTwIZIOHBJRfOunNrMgwIP0fe97n7uWOqJcQy90bNynlVZaqYAbgQdZr8T2q+0O2UIaVWAyjSVdk7Y///nPziY9danLYCW4IYzkmKkxAihwDO2TBGYZzvEURmy65jLyxe22287VO/HEE1092hArC8QL3//+9125nvJqD242OOyuueYaN6XnJonTjmuxhcy09IdBT7ZaCW1wjhnBYEGAmc4KK6xQkCYafe9617vctPJ3v/udmmn5ep999nGBIfYdLgBIySUvAIuBANdrduNTYimAfRDQbIsA7Yfg1zIpAwGAi3TgsOuyRiSAAugAQ19IU664YuBwX6Ed47WClN34bLCvGCHb5cMyEOChBshDpMpDi/Y1VnwQ4Nzqq69eMEPjtRew8gELwCP1OJyD6OFaH+x8H3T72/ar7Q7ZQpQLBCjzNxnMOyjnhVRTpkxpXZcCArStwe2TL+II2tM7M1N+jmGpRcQVJ3BxJ4vCBYTsZ9bgT9NFZKly9gQT1E5WoLWmvNuZAKhPvY985CNOJYHKscCMk/L1+PHjXQCwbkDWXGYx+JmZiEC3CgRgwUU/BB6aBSmAfRDgict1X/nKV2xXe3KM7jKJgQCzEw0e1a8CAZ6kigvVYUbk+1jnO9mHbJcPWVMCkLX5Dw1fN/ZoBuyDADMW4lsA59eZNWuWS5jqL2LDxMSsoRdi+9V2h2whDSowmV7xTq0N1tW//OUvLoCoN2/ePGcfQasFuH6AAK8fejfmhsAyQ/uimN5vv/3cMQHmC4t6LKwxBSfAGFRatAO1L7nkErfwB6U1lNjo1ID19QwWBMSgC4Psj370IzfVpQ3opyXyNYt4epIDqlzPtSyqicuuCgRmzJjh6gBmEgWwDwLMntDt8wDq+l7s0V0mMRBg9milCgQgNOWVlCeoNurAOjQYCdkuH7K2NHHixNamwcxaAa8xhx56qLOBGTQsSIgPAhwzlrg/xIQ/W2EtCYBQH9jzGqgH3WD64tex/Wq7Q7aQigpMnGkFpKIO28KFC10xTx045DlnQYAvABKexlyjJ7Z9HeC60EyA86AwdVkBZ5oE6HBzEDHR3nXXXe449A9rAdRnuhkSbhrlTP2tDAYEeKIxLURnaLv33ntdM/I1IEAw8VrFQuXBBx/snuic6xQETj75ZNcW75oSBbAPAnPmzHHXsUbTD6G/ZRIDgYMOOmhAtRAIjBw5svU6gK94jbzqqqvaNvo4GAnZLh+GXgeYsRKzxCAzrNmzZ7v1gTIQwCb4ELgf8Adq/YAFY/pq+1E2++y2b7ZfbXfIFqJcgRkCAcpf8YpXuCDSO6WCCl0CAS2IMXgRglmzhRgI6HOaT75Ifabp6Oe9mr2/CMjUj3MsNEpozxe44rlm3XXXdaeZCfgivncCyspgQIAnOO2xZsKrhzY+0XH+yCOPdM3I14AAogWu1VZbrdh2223duU5AAD0sKKH7ggsucPX4RwHsg4Be3wCNfgg2lEm3IMCTcOrUqW3qoNzSmgCvSpCP9EpCtsuHIRCgfWJSQvxzH2IgoGt5zeWzNsIrLmtrNi51bere9qvtDtlCGlNgMoWGjFGbgktPXlZ5mY7p8xe6BALXXnutC0iehgSgpvNcEwMBpkFc45MvygECAMoVBJTp3Xvy5Mm61C3GscjGlJeFJPpCPf3hBqvIvLuNHTu2gNKZG0B5aCFmMCDAuxz6jjvuuJZN/ADpOQ848GlMvhYIiNuea/Q5sQwE6BM03AQS17Ox0Ol/clMA+yCgRVEWn/oh2FEm3YIAayIwGTMAeRXVbEf3n1dSnqjMEJl98XWKtRHLTlxmjz0fsl0+DIEAYE8s0S6fZk855RT3sAuBwJNPPlnoEzTtsm4A6CPUZ0GX2ZkWjlnEDq1RWZs7Obb9artDthCFCkzK/E3flukM79mUMStggVDXCQRwCO9loCIDbPvtt3cO4roYCNC2PpeJfFGd5MZTn1cPfwEJpzGNhp5awjSRzyyyCztAbX3C5MnP3whodsJA0o2TDu27BQH8o68ld999t9S4PXx4opHm05d8LRCASw+bsUvvnGUgwHW0A6AAePaJSYMKYB8EACjq+QHZZmTiAXaVSbcgwGsTszMeIky7+YqCrwQCtMM6D/d6ueWWc7HBbJJ2BiMh2+XDEAjwBYrYZr2JT+asV7F2oFjy1wRYGHzb297m4o41KMaQ//mTNTdAgYVd+srYYr2qF2L71XaHbGE3DfJ5hkHFHj1sAgHpYVGvEyJIXa8903n/icZ5viXTBrMFKwAOZTwFfGHREvvKhHKeMClCn2mbG3zbbbcNilwzpf2yuvxdBUy12CYQ4J2V434tCmIL+nstxBCxFBNihr+XsHETq2PLBms7MVRln9oCTACPMuGvOZnJ6IFVdl03522/2u6QLexGsa6NgYCuSdmzOMLnNZCezf98KL08ffmawXS4bhEI4Es2fYGo2w7bHk9M2SQQ4KnKDAt/9Ut6EVP9sq1Kb5Ntj/XN9qtxIMCaBJ1geqTV1FCHmU4xDUx5EoT0Vp2jPdrVxuxiKAhMvbKJ90vZ6f/lZT/stAHXjzb6pbPJtsd8YvvVcxBgGsQ3dzb+wq7XMnPmTPc37/qb+F7rz/p66wEbcL3V3l9tTbY95hnbr56DQKzxXLbkecAGXJM80GTbY362/cogEPNWLkv2gA24ZIU1Kmiy7TE32X5lEIh5K5cle8AGXLLCGhU02faYm2y/MgjEvJXLkj1gAy5ZYY0Kmmx7zE22XxkEYt7KZckesAGXrLBGBU22PeYm268BIMAFecs+yDGweMeADxIDQMAvzL+zB1I9YJ86qfrqrN9k22N+sv3KIBDzVi5L9oANuGSFNSposu0xN9l+ZRCIeSuXJXvABlyywhoVNNn2mJtsvzIIxLyVy5I9YAMuWWGNCppse8xNtl8ZBGLeymXJHrABl6ywRgVNtj3mJtuvDAIxb+WyZA/YgEtWWKOCJtsec5PtVwaBmLdyWbIHbMAlK6xRQZNtj7nJ9iuDQMxbuSzZAzbgkhXWqKDJtsfcZPs1ZECAlMv9JiSNOYYyCELgIyj7L9BkgfFzwVfpC5V3SkhKRhm2TjPUhNoaCudswKXaVCepZ69tT+17r+rbflWCgPLeUdHflGOwV4b1k5BUnHu+/fwW4Sh54z7wgQ+4fG6cJysReeOV0qmK0NT3QSyzEOCiDMohQlLpIQ21bCVNmZWtt97alZN7kBRmvpCUlbrkWiSxivSwf+CBBxwDE799ijO/fq9/05YV/I3tdhOXgr3eP/bz9Pnn+/Hb2t4kMtWYP2y/2u6QLUSRQIBswiIjZd8kQlKSmdK3MsJRZTUmQSc5/tdYYw13PdyGSBWhqe9wgcBgCEmlB4DFXmVuJuGoLwIBroGuy5+5+CBAAlaILMjNz7WAAEJWYpJXWlZkv41e/aZdK0rWSR5AZlfaBLr2ev94UYIAnBqylXHBmNAx+7qzWPl+6ea3vSdtd8gWolggUMY7wHSVRJVDmZC0inCULEX+E5WnJL7weQdE5YVPxAcoQlP/BggEBkNIKj1knyU9u/gK7KxLIKBMzH62XR8EpI9U8PRHICBGIxhw+i2hmBIIMHBCMlRIPUO2y15StQ1lMlXZGdrbfnUMAkxjRUbKXmm+xY2H4qFKSKrc+mWEo9ZRrE3QHwa7JEZoqmvYl4FAJ4Sk1BctGCnTyVpLSnJAwReBAOSXTKlJca1chp2AAMBNmnFmEf0WG3C0VwUCQ4XUM2S7/FUGAkOFTFV2hva2Xx2DABX9rUmEpN0QjgJwEHmA8j5pBQy36r8lNPUdXQYCIkURv2GIkBQ9PJ1pBz47hFcUjrFLIhB4+OGHi7322suVw52AiJRFpBWcszMBzgEsZBrut2C7FYHAUCf1DNmuvsRAgPjRQ1LXhyjUfEblXpOpqt3Q3var7Q7ZQhTodaDJhKSdEo6ykMZrDYt2UJz7EiM09a8rA4FOCEl55YByjPtw0UUXOSJSEayyUCkRCGAvg51XB2xmui8imCoQgCSDdsrYdNVW6j4UUwKBoU7qGbJd/oiBwFAgU5Wdob3tV8cgEFoTaCohKYwwOMInHGXQDBs2zE2TRSUdciDnYoSmIRDgqdAJIalo1rHNboCD1iV8EMCeSZMmuesZ2Nttt537XQUCvBrRRr+Yh+Q72rAiEAitCQwlUs+Q7epLDASGApmq7Aztbb/a7pAtRIFmAiEQoLwJhKSW2NESjjLt58sBT9MQ/2AVoanv6BAIaIGvipBUvI6s5ou0lL1mBzfccINryoIAIMO6APePmQz7KhDglQbyln6vaIdiKgYCQ4nUM2S77nW3IFA3marsDO1tvzoGAd5zREbKvkmEpFWEo3yLxzG8I0NM6m88rTgfIzT1HR0CgU4ISWlnhRVWcHb4nHTo5lUA+8aPH++asiDASXjquEZbDASwEY670N8g+H3pxW/ssRIDgaFE6hmyXX3pFgTqJlOVnaG97VfbHbKFKNBMgDJ/02erJhCSVhGOavD5/dNvvgpUEZr6jrYg0CkhqRYKIdv0v/ujmxkA9rAuA1iEQIBXBWi5ZXcMBFhk5Lp9993XN70vv2nHSgwEhhKpZ8h29aVbEKibTFV2hva2X213yBaGFJSdawohaQrhaBWhKb4RCAwFQlL9/QOfG7m3+jsB1gOY2TEY+y2DjamhQOo5WNtjPq2LTDVmg+1Xz0BAjWZC0v+xEuNotkVJSBr6s+FZs2Y5u1hMrENswNXRZq/aaLLtMR/YfjUOBDIhaez2tpcxE2Daqo3j+fPnu2P+c1IdYgOujjZ71UaTbY/5wPar5yCQCUlj7l/yymzANckDTbY95mfbr56DQKzxXLbkecAGXJM80GTbY362/cogEPNWLkv2gA24ZIU1Kmiy7TE32X5lEIh5K5cle8AGXLLCGhU02faYm2y/MgjEvJXLkj1gAy5ZYY0Kmmx7zE22XxkEYt7KZckesAGXrLBGBU22PeYm268BIMAFecs+yDGweMeADxIDQMAvzL+zB1I9YJ86qfrqrN9k22N+sv3KIBDzVi5L9oANuGSFNSposu0xN9l+ZRCIeSuXJXvABlyywhoVNNn2mJtsvzIIxLyVy5I9YAMuWWGNCppse8xNtl8ZBGLeymXJHrABl6ywRgVNtj3mJtuvDAIxb+WyZA/YgEtWWKOCJtsec5PtVwaBmLdyWbIHbMAlK6xRQZNtj7nJ9iuDQMxbuSzZAzbgkhXWqKDJtsfcZPs1ZEBgKBCSktaLpKNVyTf5v/hkWrZpwHC8SEBiN2FJKrMBl9r3TEia6sHC/TGgr6USBKpyDPrKUn73k5BUdsEdsOaaazonTJ8+Xafd/pRTTnE5/AjaFVdcsZVIVReRkAN2GTIGw/rDdVOnTnXFlMFWtN5667nzZJYlr2EopbbSj1GfTZmHll56aXfMOdKTr7XWWsWee+5ZQE4qUW5BriFRKLYccsghLaZkJTSVbn+/4YYbOn06N2bMGKeW3P+wEf3yl79UMz3d054V0ppZMlKOMyGp9VR/ju09abtDthATBAJNJiTliQ1XAMGuQeCDwLRp09z5ZZdd1rH1iCNALEsQZSoj8ejRo90A/9KXvlTwVEKU9x/2H3gMRQUWSuElELCEpQIBGIpIbApDELaG+AZGjRpVcJ0IS8V7CIvNuHHjirFjx7b6+cEPftCdw5Zbb7214Br0CgQgJSWBKTr7IaGYUqLRTEjaD49X67T3pGMQKOMdaAIh6VlnneUCn7TPEI7gBB8E9ASFghy58MIL3TXQlSNK5w1tVkhEc3beeee5Yva0ESL8FAho4EqfQEDJP+fOnet0oEe8CZoJwDSM+BTmPsMwrzPUYyOdmC8agAIBysTV2GumaXRjgxXZEJopcW0mJH1VQZp8PYSs/1KP7T1pu0O2kMY0E2gyISkDDyBgRhACAT1177nnHudfnvD4Yt1113XHW265pTuGzZcBAzXYlVde2boXM2fOdNl7ofuePHmyIwDh6XrnnXe2rtGPKhCAehufC1iYxkssCNx9993OLmwlwaukWxAg2NDB606vJRRTVSCQCUkfLeC+ZEbKWlmvxd6TjkGAiv4mlBLzzemnn+5snTJlSus6Ah6Bm426PoW2iDYvvfRSd42enrvttps75h8GFfWgppLAEMQ5CEIQUXfxHo6ceuqprlx63Unvnw022MCV+zMBmHjQqVz98+bNc8ewKyHrrLNOwZMa1h6u03bJJZe0NH/zm99snef91hKI6MIqEJBu9qxfPP7446ra4htgus8aBKxJXAdFuS/dggCBhp4Qh56vdzC/0WtFIJAJSbdqjYlMSFoURacgwOsHBB0EF8F04IEHut/HHnusizUReJJhNyQhEGAhEH0MfuTBBx90x5xHyNFPOQxADBjWAzjWoKEtZkrQmIkLkNnFfffd5+r7/1SBwP777+9mAZqxYK+mzZoJ0LY2Zgr333+/34T7uqHyTl4HAA3WQ1in6LVghxWBQCYkfQEEYI7G/3vssUdr4xWceOi12HvSdodsIY3rdSC0JtBEQtIQCAwfPtwNqtmzZzt/33HHHe5Yg0IzAKbfCAta+IrpGq8YGpxiMoaijXLWGqxUgQADBHn22WeLVVZZxemxHIQAHTMi7A19pux2JkB7LPwCXL2WUEwJBARufpuZkPSq4qqrXtjmzJnju6cnv+09SQIBLGoCIanvuRAIaDVdrzQnn3yyG3yswCOiFec9DZkxY4YrZ+Ue4f2fVwAtzi1cuNAdQ29mpVMQ4DVAMxCtPwhstDBodeu4WxDgbyMIDJiKei024NAfA4FMSNrrOzBQn70nHYNAkwlJfTeEQECzHQYzn+cEbHoC8/cFTPX5xMgrwEorreQGDdNZZJtttnHHI0aMKI455piCT4U4etddd/Wbdr+rQIC1Dt7x+TsAdAA0zLiQfoEAC560ddhhhw2wN/WEDTj0xUAgE5KeUcAyzWdpFpYB6F6LvScdgwAV/a1JhKS+E0MgQDmLllprYJDrqa+6LHiK8BNAgEYcXjmE927WJvSVgT8amjhxYmtmIB3sq0AAH7MIyd8a8KUBKjFJv0DgxBNPdPe2bDFV7Q9mb6qJmJAAABBtSURBVAMOHTEQyISk6zjKeNZoWGcqW9sazL1QHXtPKkFAFav2TSAkreoD5UzlY8J6AChdJk8//XRZkTsvEFgUhKUsePJqQRDo7wT4E2hmG4AjzMa9FhtwnerPhKR/qPzz9U59aa+z96RnIKCGlnRCUvmhbC8Q4Eaw6c+Gy67v5Xn+DFntCgT0F4TXX399L5tq6bIB1ypowI8m2x5zr+1X40BgqBOSxpxPGYt2IghlX+d/OOKvENX2Qw895Ezlrw77sQItP9iA0/km7Jtse8y/tl89B4FMSBpz/5JXZgOuSR5osu0xP9t+9RwEYo3nsiXPAzbgmuSBJtse87PtVwaBmLdyWbIHbMAlK6xRQZNtj7nJ9iuDQMxbuSzZAzbgkhXWqKDJtsfcZPuVQSDmrVyW7AEbcMkKa1TQZNtjbrL9yiAQ81YuS/aADbhkhTUqaLLtMTfZfg0AAS7IW/ZBjoHFOwZ8kBgAAn5h/p09kOoB+9RJ1Vdn/SbbHvOT7VcGgZi3clmyB2zAJSusUUGTbY+5yfYrg0DMW7ks2QM24JIV1qigybbH3GT7lUEg5q1cluwBG3DJCmtU0GTbY26y/cogEPNWLkv2gA24ZIU1Kmiy7TE32X5lEIh5K5cle8AGXLLCGhU02faYm2y/MgjEvJXLkj1gAy5ZYY0Kmmx7zE22XxkEYt7KZckesAGXrLBGBU22PeYm268hAwJDgZCUDL+PPfZYMINvzKm9LiPDDxmMygQ7yQgUytZbVmdRnbcBl2pHJiRN9eBAVqhKEFASTm6mvynHYLpJ/9OwKAlJyXkH5ZiSe5Jw9NBDDw2mEYNURJRhPuuP/FBVHsssdNNNNxU77rhjsfzyyztfk6uQ9OIMeAkpxsk9x70g16EyHKtcnAiUk+fQCqxKuo933XWXK7b3GNIXkrfABIScf/75rTrKsHzNNde4c3AvxoS2rODvTEhqvVLfsb0nbXfIFmKWAmRxJiSF8IG+w4p08MEHF2ussYY7PuGEE9ruDEkwxfrD9RYEqspRJhCwhKTXXnttscwyy7h2GfywDW+11VZu8424+eab3TUiIz3nnHP84hYxCvaJRk0XwDzMeW0WBLjHEyZMKEaOHOkyKwN2tEeyU9Kcr7zyyi4fofSRXRnAsECkcva0ZUWJRjMhqfVMPcf2nrTdIVuISQKBEPkI5YsDISnU4rfddlvrDvB0wxc77LBD6xw/DjjgAJdRmJkC5RYEqsrRIRDwCUlJOaanPxTpHEssucjee+/t2r7sssvcjGSLLbbQpW6vmQBpy7HRZ0E66qijXB3SmlNmQcC/x3AucA2ciBLKNRPgnFKVh4hXVQcdVgQCZa8zmZA0E5K6mGEAanpO0BLsEH+K5os02QiDSpyFMAfBAkTgQRwq4ZoYIamu0578++iA709CQlDOka1XpCA+CFSVS08IBB544AGnG/2xPPOsBUBoAmCgB34DptXiUKQNgQCvAug7/vjj1bSjueIpzwyDshgIQGnONeJWQIkFAR4AcDFsuummrTbsD3RYqQKBTEiaCUlbMaPB3W9C0laDRVHcfvvtbpAzNdaAZNrK9FtkIgw8glsgUFXu6w+BAPn+0SdSVf96/zfU4VwnZiQGOMcCRK4VCECQuvrqqxebbbaZUwHjMteedtpp7n2f3xYE4FuA0BVSWAY312hdACUWBDgH1wKgVCbosCIQyISkL3ARZkLSRUxIqiDl3Zf3XhbcxCtIGWsGBDpfDhALAlXl0s8+BgKbbLKJf+mA36JDO/zww91U/Oyzz3YDdaONNmpdKxBgMW/fffd1tmI3MyMGJAMQYpMQCHBOG+sTdvE3BALbb7+9q7NgwYKWDf4P9FkRCGRC0hdAIBOSdgECBBRPEILrjDPOcE87BiWBhcAMRJmecjYAyxiImFIPGzbMPQGvuOKKVrVZs2Y5fcxKmPayaaBAIHLhhRdGy3lF8SUEAnxRQCdTfab8IYGaCgJUtW339957r6vmgwCLjVzH4iHsSaIwLwMBGJguvvhiR/ceGtQhENhpp51cG4888kjIbFdmCwQCoTWBTEj6AhkpxKT9SAdPTPjSdmQLubBqYVC8fdddd53Ti9EKUAIe0WIWgxdh+qynqaivQtTk+hTGt2FfWOyiDXH+jR49ulUsSq3LL7+8dc7/EQIBpv2s+jMDgO3XFwYorwL+pv5hH4uIfhm//XJ4DH0JgQBfFcRAbL9IaOUdjj70rr322m6xjgU7NmYPnD/yyCNdMz4I8GkR4NBnweOOO85dUwYCDPKYhEAAxubllluubTHT14FtVmIgkAlJrbd6f2zvSdsdsoU0LxBYnAlJeaLTd6b8LEL6W+hpJQDTmoC9TbHyEAhQH+5DbGCjfRZGWYnX0xuac8o0kNUmTwvOAw58VfBBgGvQI73333+/q9YrEKAvLN7ivzKhbSsxEMiEpJmQ1C1KKWgAIH3qYoBOmzZNRY5AlACDuJGpsoRpPYtaZTTboZkA03ANFLvnKW0lNsi5NlZeBgLUu+SSS9xCG/XZWHTjS8WTTz7ZWqi7++6728yBFFV/X8CsxYIArwL0ib89kPQKBFhERTdrD2VCuZUYCOBv1hlWXXVVtz4D0StrB6xxIMw4hw8f7n6z2AkAMYvDV3xBwgcS1nhGjRrlgIrXOWat5557roor9yHbVQkmJxaPrRxxxBHFQQcdZE8XvK4ByLxyYcs+++xTQAsHEa6EL0zrrJMJSeWPtj2vD/63cwpPOukkF4AsylnZf//9XRnUzkNNBAIEL3+bECIwZWD7wLao+/DEE084W3n98f9OgPUAZogM6jKJDaSyOpzPhKSZkLQ0PqZPn+6+ffMeyuZ/PlQlnpz8QQ9BOtREIMDgYKuTkHSwvgj92bAWTCdNmhRVO1gQiCqtqbDJtsdcZPvVNlezhTFFZWW8J6OHjYDvtWRC0l57tFofoCoiU311mT9/vjvn/7+GkKZexFRIbx3nmmx7zD+2Xz0HgUxIGnP/kldmA65JHmiy7TE/2371HARijeeyJc8DNuCa5IEm2x7zs+1XBoGYt3JZsgdswCUrrFFBk22Pucn2K4NAzFu5LNkDNuCSFdaooMm2x9xk+5VBIOatXJbsARtwyQprVNBk22Nusv3KIBDzVi5L9oANuGSFNSposu0xN9l+DQABLshb9kGOgcU7BnyQGAACfmH+nT2Q6gH71EnVV2f9Jtse85PtVwaBmLdyWbIHbMAlK6xRQZNtj7nJ9iuDQMxbuSzZAzbgkhXWqKDJtsfcZPuVQSDmrVyW7AEbcMkKa1TQZNtjbrL9yiAQ81YuS/aADbhkhTUqaLLtMTfZfmUQiHkrlyV7wAZcssIaFTTZ9pibbL8yCMS8lcuSPWADLllhjQqabHvMTbZfGQRi3splyR6wAZessEYFTbY95ibbryEDAkOBkFSO4//IP/XUU6XEpLHyZ555Rmpq25O3AZvYbAam2owoacgGXMllHZ/OhKQdu6r0QntPKkFAiUap6G82J31pix0W1EFIiinkoAsRikJFRn44EnYqR+DUqVNb1sfKKYOtiDx++AgSEbgBQklKyzILySYSd9oEpiInQfcuu+zSskk/dt9999a98fMwKgegf9/837ApQVCic+TfI/MyeRvhOOiFoNsK6ciUR9HfQ4xSJX6OwaprU8ut7SRB9e21v3mQNUFsv9rukC2kQwKBJhOS6saUEYY+99xzLmEl/Sd9OQOYhJ1KdV5VToot6pICnRTkSuQZSr0lELCEpAIB9CgNu+yGMZnzbBYEyMXHoNVgBhAkc+fOLcaNG+c2CEqoT1JOnSNFGEBH0kvKlIRT/YGMNFXQa0WJRskdCVBqw89VsihBAMp42cq4YEzomP1Qm4WV+dLek7Y7ZAtRIhAoy0nfBEJSOaOMMJTgp+/iRdD12leVk/+f+nAnIOJQCBF1CgR8QlLqAAJk0bVPYZKOwh2w+eabuzYsCEAWQtvMzMikTH2AwYoYiBjwVmAcRodAgOSnZHfeeOON7aVdH6PXikCAgROSTEiaCUldXPSSkBSFMcLQLbfc0g0CWHYZLPvtt58jHlWAVpVDlErWXVJJT5482aXKJtFpKNtxDASYHey4447uCSMmIkhUGEhHH32021sQEA0YOQD1BAcYrHQDAtQlVTftAkIpMhgQyISkmZC0FXMMKoLIzygMQxDnIOhAbrzxRncsMk8INSn3p9RVhKHkeudJDJsOdbXBA4BUlXMNBKCqx7uin//eKfn/f2IgAA2aZhE/+MEPXA3IQSEK5Rj9PggsXLjQ5dQnDThTUVKYcw1EJVa6BQGxRoWAzOqOHWOPFc0EMiHpC1yEmZDUm0IT9JIQCPD6AYEDwUUwQU7B72OPPdZV4ynOMU9GSRVhqKjGx48fX7C4IwKPnXfe2amoKqctcvJDYybqdMgwoEuzEgMB3uvJ4ov99IM1DKb38CuSap3zPgiw/sC5rbfe2hGU8g7PqwPkK2QI9qVbEBCvQxmdm6879hv7rAgEMiHpCyCQCUm7AAECqhtCUuXHB1BChKIQhmoGIHYfZg4ELwPq+eefryxnEHK9mIwvuOACdxx6IleBAP2DXxBQYdEOvUyPQyCg9OtcY7ezzjqrbex1CwKaUYVeLdoUVxxglxWBQGhNIBOSZkLSNhoyBgJBpFV6BVM3hKRMy6sIQ0X5DR8gMmPGDNeu2Haqynn/5xVA5KFM0zmG3sxKJyCg93+IRFmB5hOkBQEGEm0w+xA5KXuxBI8YMaKt6W5BIDSjalPY4UG3IJAJSTt0bMJl9p60wbQtpB19HWBKzJNHG087RFTgBCtTGp+Vl4BHRJHNk3XMmDGt6Tzt6d1d78L+6wDTeK7hk9uECRPcQHAKi6LFSEy5z+d29dVXuzos0JUJg4d6+h4PczCDiWk0rwC8g1POdBWpKt9mm23c9Qy8Y445pmXbrrvuOsCETkBAsxds0Cc/CwJiX952223b2gCA9Llx3rx5rbJuQYCvF7Sf+sdP6LASmwlkQtJMSNo2EwCAek1ISkBaEODclClTivXXX98FPoAAuPkr47Fy3uNZm2AdgKDnj4YmTpzYmhn4g6ATEGCRT7Mg/cGSBQF99z/zzDN99e43YIQdPoNxNyDANJ3XJ2YiqdItCGRC0kxIGoy5OglJaSv2RytV5SGCUb9TAoEYIal/fb9/z549uzjqqKMcaOjvBLQekLooiO0hEOikT5mQNBOSlsYJT8Tjjz/ekZFmQtJSN3VcoL80ZLACAjyJoQW3awodKzQXDhYEjJpFcthk22MOs/1qe2GzhTFFZWWZkLTMM/87z1Rf5J7sU9+5461Vl0IwKnv4rAglOscLFiyortzBFb2IqQ6a6cslTbY95hDbr56DQCYkjbl/ySuzAdckDzTZ9pifbb96DgKxxnPZkucBG3BN8kCTbY/52fYrg0DMW7ks2QM24JIV1qigybbH3GT7lUEg5q1cluwBG3DJCmtU0GTbY26y/cogEPNWLkv2gA24ZIU1Kmiy7TE32X5lEIh5K5cle8AGXLLCGhU02faYm2y/BoAAF+Qt+yDHwOIdAz5ItIGAX5B/Zw9kDywZHsggsGTc59zL7IFSD2QQKHVNLsgeWDI88H+A7xamSpGKxgAAAABJRU5ErkJggg==)\n",
        "\n",
        "You can then define some functions to compute target weights and place orders for the long and short positions as specified by the pipeline output. Let's use some of the basics to implement weight calculations and ordering."
      ]
    },
    {
      "cell_type": "code",
      "metadata": {
        "id": "QbVgfXGA0j7Y"
      },
      "source": [
        "def compute_target_weights(context, data):\n",
        "    \"\"\"\n",
        "    Compute ordering weights.\n",
        "    \"\"\"\n",
        "\n",
        "    # Initializing empty target weights dictionary.\n",
        "    # This will map securities to their target weight.\n",
        "    weights = {}\n",
        "\n",
        "    # If there are securities in the longs and shorts lists,\n",
        "    # computing even target weights for each security.\n",
        "    if context.longs and context.shorts:\n",
        "        long_weight = 0.5 / len(context.longs)\n",
        "        short_weight = -0.5 / len(context.shorts)\n",
        "    else:\n",
        "        return weights\n",
        "\n",
        "    # Exiting positions in the portfolio if they are not\n",
        "    # in the longs or shorts lists.\n",
        "    for security in context.portfolio.positions:\n",
        "        if security not in context.longs and security not in context.shorts and data.can_trade(security):\n",
        "            weights[security] = 0\n",
        "\n",
        "    for security in context.longs:\n",
        "        weights[security] = long_weight\n",
        "\n",
        "    for security in context.shorts:\n",
        "        weights[security] = short_weight\n",
        "\n",
        "    return weights\n",
        "\n",
        "def before_trading_start(context, data):\n",
        "    \"\"\"\n",
        "    Getting pipeline results.\n",
        "    \"\"\"\n",
        "\n",
        "    # Gets the pipeline output every day.\n",
        "    pipe_results = algo.pipeline_output('my_pipeline')\n",
        "\n",
        "    # Go long in securities for which the 'longs' value is True,\n",
        "    # and checking if they can be traded.\n",
        "    context.longs = []\n",
        "    for sec in pipe_results[pipe_results['longs']].index.tolist():\n",
        "        if data.can_trade(sec):\n",
        "            context.longs.append(sec)\n",
        "\n",
        "    # Go short in securities for which the 'shorts' value is True,\n",
        "    # and checking if they can be traded.\n",
        "    context.shorts = []\n",
        "    for sec in pipe_results[pipe_results['shorts']].index.tolist():\n",
        "        if data.can_trade(sec):\n",
        "            context.shorts.append(sec)\n",
        "\n",
        "def my_rebalance(context, data):\n",
        "    \"\"\"\n",
        "    Rebalance weekly.\n",
        "    \"\"\"\n",
        "\n",
        "    # Calculating target weights to rebalance\n",
        "    target_weights = compute_target_weights(context, data)\n",
        "\n",
        "    # If you have target weights, rebalancing the portfolio\n",
        "    if target_weights:\n",
        "        algo.order_optimal_portfolio(\n",
        "            objective=opt.TargetWeights(target_weights),\n",
        "            constraints=[],\n",
        "        )"
      ],
      "execution_count": null,
      "outputs": []
    },
    {
      "cell_type": "markdown",
      "metadata": {
        "id": "5iAsn3JO1Ibj"
      },
      "source": [
        "Finally, let's put everything together. And specify the algorithm to rebalance weekly."
      ]
    },
    {
      "cell_type": "code",
      "metadata": {
        "id": "53O6uwoY1aBq"
      },
      "source": [
        "from quantopian.algorithm import order_optimal_portfolio\n",
        "from quantopian.algorithm import attach_pipeline, pipeline_output\n",
        "from quantopian.pipeline import Pipeline\n",
        "from quantopian.pipeline.data.builtin import USEquityPricing\n",
        "from quantopian.pipeline.factors import SimpleMovingAverage\n",
        "from quantopian.pipeline.filters import QTradableStocksUS\n",
        "import quantopian.optimize as opt\n",
        "\n",
        "def initialize(context):\n",
        "    # Scheduling the rebalance function to run at the start of\n",
        "    # each week, when the market opens.\n",
        "    schedule_function(\n",
        "        my_rebalance,\n",
        "        date_rules.week_start(),\n",
        "        time_rules.market_open()\n",
        "    )\n",
        "\n",
        "    # Creating the pipeline and attaching it to the algorithm.\n",
        "    my_pipe = make_pipeline()\n",
        "    attach_pipeline(my_pipe, 'my_pipeline')\n",
        "\n",
        "def make_pipeline():\n",
        "    \"\"\"\n",
        "    Creating the pipeline.\n",
        "    \"\"\"\n",
        "\n",
        "    # Base universe set to the QTradableStocksUS.\n",
        "    base_universe = QTradableStocksUS()\n",
        "\n",
        "    # 10-day close price average.\n",
        "    mean_10 = SimpleMovingAverage(\n",
        "        inputs=[USEquityPricing.close],\n",
        "        window_length=10,\n",
        "        mask=base_universe\n",
        "    )\n",
        "\n",
        "    # 30-day close price average.\n",
        "    mean_30 = SimpleMovingAverage(\n",
        "        inputs=[USEquityPricing.close],\n",
        "        window_length=30,\n",
        "        mask=base_universe\n",
        "    )\n",
        "\n",
        "    percent_difference = (mean_10 - mean_30) / mean_30\n",
        "\n",
        "    # Filtering to select securities to short.\n",
        "    shorts = percent_difference.top(75)\n",
        "\n",
        "    # Filtering to select securities to long.\n",
        "    longs = percent_difference.bottom(75)\n",
        "\n",
        "    # Filtering for all securities that you want to trade.\n",
        "    securities_to_trade = (shorts | longs)\n",
        "\n",
        "    return Pipeline(\n",
        "        columns={\n",
        "            'longs': longs,\n",
        "            'shorts': shorts\n",
        "        },\n",
        "        screen=(securities_to_trade),\n",
        "    )\n",
        "\n",
        "def compute_target_weights(context, data):\n",
        "    \"\"\"\n",
        "    Computing ordering weights.\n",
        "    \"\"\"\n",
        "\n",
        "    # Initializing empty target weights dictionary.\n",
        "    # This will map securities to their target weight.\n",
        "    weights = {}\n",
        "\n",
        "    # If there are securities in the longs and shorts lists,\n",
        "    # compute even target weights for each security.\n",
        "    if context.longs and context.shorts:\n",
        "        long_weight = 0.5 / len(context.longs)\n",
        "        short_weight = -0.5 / len(context.shorts)\n",
        "    else:\n",
        "        return weights\n",
        "\n",
        "    # Exit positions in the portfolio if they are not\n",
        "    # in the longs or shorts lists.\n",
        "    for security in context.portfolio.positions:\n",
        "        if security not in context.longs and security not in context.shorts and data.can_trade(security):\n",
        "            weights[security] = 0\n",
        "\n",
        "    for security in context.longs:\n",
        "        weights[security] = long_weight\n",
        "\n",
        "    for security in context.shorts:\n",
        "        weights[security] = short_weight\n",
        "\n",
        "    return weights\n",
        "\n",
        "def before_trading_start(context, data):\n",
        "    \"\"\"\n",
        "    Get pipeline results.\n",
        "    \"\"\"\n",
        "\n",
        "    # Gets the pipeline output every day.\n",
        "    pipe_results = pipeline_output('my_pipeline')\n",
        "\n",
        "    # Go long in securities for which the 'longs' value is True,\n",
        "    # and checking if they can be traded.\n",
        "    context.longs = []\n",
        "    for sec in pipe_results[pipe_results['longs']].index.tolist():\n",
        "        if data.can_trade(sec):\n",
        "            context.longs.append(sec)\n",
        "\n",
        "    # Go short in securities for which the 'shorts' value is True,\n",
        "    # and checking if they can be traded.\n",
        "    context.shorts = []\n",
        "    for sec in pipe_results[pipe_results['shorts']].index.tolist():\n",
        "        if data.can_trade(sec):\n",
        "            context.shorts.append(sec)\n",
        "\n",
        "def my_rebalance(context, data):\n",
        "    \"\"\"\n",
        "    Rebalance weekly.\n",
        "    \"\"\"\n",
        "\n",
        "    # Calculating target weights to rebalance\n",
        "    target_weights = compute_target_weights(context, data)\n",
        "\n",
        "    # If you have target weights, rebalancing the portfolio\n",
        "    if target_weights:\n",
        "        order_optimal_portfolio(\n",
        "            objective=opt.TargetWeights(target_weights),\n",
        "            constraints=[],\n",
        "        )"
      ],
      "execution_count": null,
      "outputs": []
    }
  ]
}