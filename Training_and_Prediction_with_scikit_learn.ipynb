{
  "nbformat": 4,
  "nbformat_minor": 0,
  "metadata": {
    "colab": {
      "name": "Training and Prediction with scikit learn.ipynb",
      "provenance": [],
      "collapsed_sections": []
    },
    "kernelspec": {
      "display_name": "Python 3",
      "language": "python",
      "name": "python3"
    }
  },
  "cells": [
    {
      "cell_type": "markdown",
      "metadata": {
        "id": "iGGtIWWKh16l"
      },
      "source": [
        "## Confidentiality\n",
        "\n",
        "This notebook is downloaded from Gcp AI hub and is for demonstrational purposes only.\n",
        "\n",
        "Please do not copy or distribute this notebook."
      ]
    },
    {
      "cell_type": "markdown",
      "metadata": {
        "id": "4WQYvl7lwqYB"
      },
      "source": [
        "## Previous knowledge\n",
        "\n",
        "Please study the following resources for a deep understanding of this notebook.\n",
        "\n",
        "1 *https://scikit-learn.org/stable/user_guide.html* \n",
        "*(section 1.10, 3 and 6)*"
      ]
    },
    {
      "cell_type": "markdown",
      "metadata": {
        "id": "UxbK17FXklrr"
      },
      "source": [
        "## Introduction\n",
        "This notebook uses the [Census Income Data Set](https://archive.ics.uci.edu/ml/datasets/Census+Income) to demonstrate how to train a model and generate local predictions.\n",
        "\n",
        "\n",
        "##  The data\n",
        "The [Census Income Data Set](https://archive.ics.uci.edu/ml/datasets/Census+Income) that this sample\n",
        "uses for training is provided by the [UC Irvine Machine Learning\n",
        "Repository](https://archive.ics.uci.edu/ml/datasets/). Google has hosted the data on a public GCS bucket `gs://cloud-samples-data/ml-engine/sklearn/census_data/` and also hosted in the UC Irvine dataset repository.\n",
        "\n",
        " * Training file is `adult.data`\n",
        " * Evaluation file is `adult.test`\n",
        "\n",
        "\n",
        "### Disclaimer\n",
        "This dataset is provided by a third party. Google provides no representation,\n",
        "warranty, or other guarantees about the validity or any other aspects of this dataset.\n",
        "\n",
        "# Building the model\n",
        "\n",
        "First, the model is created (provided below). This is similar to a normal process for creating a scikit-learn model. However, there is one key difference:\n",
        "\n",
        "1. Downloading the data at the start of the file, so that the data can be accessed. \n",
        "\n",
        "The code in this file loads the data into a pandas DataFrame that can be used by scikit-learn. Then the model is fit against the training data. Lastly, sklearn's built in version of joblib is used to save the model to a file that can be uploaded to [ML Engine's prediction service](https://cloud.google.com/ml-engine/docs/scikit/getting-predictions#deploy_models_and_versions)."
      ]
    },
    {
      "cell_type": "code",
      "metadata": {
        "id": "EJeDGLu-klrt",
        "outputId": "d030f86a-d374-4de5-881b-d5d78a555d26",
        "colab": {
          "base_uri": "https://localhost:8080/",
          "height": 71
        }
      },
      "source": [
        "import pandas as pd\n",
        "import json\n",
        "\n",
        "from sklearn.ensemble import RandomForestClassifier\n",
        "from sklearn.externals import joblib\n",
        "from sklearn.feature_selection import SelectKBest\n",
        "from sklearn.pipeline import FeatureUnion\n",
        "from sklearn.pipeline import Pipeline\n",
        "from sklearn.preprocessing import LabelBinarizer"
      ],
      "execution_count": 1,
      "outputs": [
        {
          "output_type": "stream",
          "text": [
            "/usr/local/lib/python3.6/dist-packages/sklearn/externals/joblib/__init__.py:15: FutureWarning: sklearn.externals.joblib is deprecated in 0.21 and will be removed in 0.23. Please import this functionality directly from joblib, which can be installed with: pip install joblib. If this warning is raised when loading pickled models, you may need to re-serialize those models with scikit-learn 0.21+.\n",
            "  warnings.warn(msg, category=FutureWarning)\n"
          ],
          "name": "stderr"
        }
      ]
    },
    {
      "cell_type": "markdown",
      "metadata": {
        "id": "VvjV12Wwklr0"
      },
      "source": [
        "Adding code to download the data (in this case, using the publicly hosted data).\n",
        "to be able to use the data when training the model."
      ]
    },
    {
      "cell_type": "code",
      "metadata": {
        "id": "BauE29a2klr2",
        "outputId": "aa5e1a1d-4efd-4516-f264-7ddc2c4a69ee",
        "colab": {
          "base_uri": "https://localhost:8080/",
          "height": 119
        }
      },
      "source": [
        "# Downloading the data\n",
        "! curl https://archive.ics.uci.edu/ml/machine-learning-databases/adult/adult.data --output adult.data\n",
        "! curl https://archive.ics.uci.edu/ml/machine-learning-databases/adult/adult.test --output adult.test"
      ],
      "execution_count": 2,
      "outputs": [
        {
          "output_type": "stream",
          "text": [
            "  % Total    % Received % Xferd  Average Speed   Time    Time     Time  Current\n",
            "                                 Dload  Upload   Total   Spent    Left  Speed\n",
            "100 3881k  100 3881k    0     0  4146k      0 --:--:-- --:--:-- --:--:-- 4142k\n",
            "  % Total    % Received % Xferd  Average Speed   Time    Time     Time  Current\n",
            "                                 Dload  Upload   Total   Spent    Left  Speed\n",
            "100 1956k  100 1956k    0     0  1868k      0  0:00:01  0:00:01 --:--:-- 1868k\n"
          ],
          "name": "stdout"
        }
      ]
    },
    {
      "cell_type": "markdown",
      "metadata": {
        "id": "mDEk7UnXklr7"
      },
      "source": [
        "# Reading in the data"
      ]
    },
    {
      "cell_type": "code",
      "metadata": {
        "id": "4tqKPSkXklr9"
      },
      "source": [
        "# Defining the format of the input data including unused columns (These are the columns from the census data files)\n",
        "COLUMNS = (\n",
        "    'age',\n",
        "    'workclass',\n",
        "    'fnlwgt',\n",
        "    'education',\n",
        "    'education-num',\n",
        "    'marital-status',\n",
        "    'occupation',\n",
        "    'relationship',\n",
        "    'race',\n",
        "    'sex',\n",
        "    'capital-gain',\n",
        "    'capital-loss',\n",
        "    'hours-per-week',\n",
        "    'native-country',\n",
        "    'income-level'\n",
        ")\n",
        "\n",
        "# Categorical columns are columns that need to be turned into a numerical value to be used by scikit-learn\n",
        "CATEGORICAL_COLUMNS = (\n",
        "    'workclass',\n",
        "    'education',\n",
        "    'marital-status',\n",
        "    'occupation',\n",
        "    'relationship',\n",
        "    'race',\n",
        "    'sex',\n",
        "    'native-country'\n",
        ")"
      ],
      "execution_count": 3,
      "outputs": []
    },
    {
      "cell_type": "markdown",
      "metadata": {
        "id": "41MMaoVuklsB"
      },
      "source": [
        "Loading the training census dataset"
      ]
    },
    {
      "cell_type": "code",
      "metadata": {
        "id": "YdGpxLSMklsC"
      },
      "source": [
        "with open('./adult.data', 'r') as train_data:\n",
        "    raw_training_data = pd.read_csv(train_data, header=None, names=COLUMNS)\n",
        "\n",
        "# Removing the column that has to be predicted ('income-level') from the features list\n",
        "# Converting the Dataframe to a lists of lists\n",
        "train_features = raw_training_data.drop('income-level', axis=1).values.tolist()\n",
        "# Creating the training labels list, converting the Dataframe to a lists of lists\n",
        "train_labels = (raw_training_data['income-level'] == ' >50K').values.tolist()"
      ],
      "execution_count": 4,
      "outputs": []
    },
    {
      "cell_type": "markdown",
      "metadata": {
        "id": "GwCuyIpSklsG"
      },
      "source": [
        "Loading the test census dataset"
      ]
    },
    {
      "cell_type": "code",
      "metadata": {
        "id": "Uyqn-CBPklsI"
      },
      "source": [
        "with open('./adult.test', 'r') as test_data:\n",
        "    raw_testing_data = pd.read_csv(test_data, names=COLUMNS, skiprows=1)\n",
        "# Removing the column that has to be predicted ('income-level') from the features list\n",
        "# Converting the Dataframe to a lists of lists\n",
        "test_features = raw_testing_data.drop('income-level', axis=1).values.tolist()\n",
        "# Creating the training labels list, converting the Dataframe to a lists of lists\n",
        "test_labels = (raw_testing_data['income-level'] == ' >50K.').values.tolist()"
      ],
      "execution_count": 5,
      "outputs": []
    },
    {
      "cell_type": "markdown",
      "metadata": {
        "id": "XkBg0WelklsM"
      },
      "source": [
        "This is the model code. Below is an example model using the census dataset.\n",
        "Since the census data set has categorical features, the numerical values have to be converted. A list of pipelines is used to convert each\n",
        "categorical column and then using FeatureUnion to combine them before calling the RandomForestClassifier.\n",
        "\n",
        "Each categorical column needs to be extracted individually and converted to a numerical value.\n",
        "To do this, each categorical column a pipeline is used that extracts one feature column via\n",
        " `SelectKBest(k=1) and a LabelBinarizer()` to convert the categorical value to a numerical one.\n",
        "A scores array (created below) selects and extracts the feature column. The scores array is\n",
        "created by iterating over the COLUMNS and checking if it is a CATEGORICAL_COLUMN."
      ]
    },
    {
      "cell_type": "code",
      "metadata": {
        "id": "yjoJTK9tklsO"
      },
      "source": [
        "categorical_pipelines = []\n",
        "\n",
        "for i, col in enumerate(COLUMNS[:-1]):\n",
        "    if col in CATEGORICAL_COLUMNS:\n",
        "        # Create a scores array to get the individual categorical column.\n",
        "        # Example:\n",
        "        #  data = [39, 'State-gov', 77516, 'Bachelors', 13, 'Never-married', 'Adm-clerical', \n",
        "        #         'Not-in-family', 'White', 'Male', 2174, 0, 40, 'United-States']\n",
        "        #  scores = [0, 1, 0, 0, 0, 0, 0, 0, 0, 0, 0, 0, 0, 0]\n",
        "        #\n",
        "        # Returns: [['State-gov']]\n",
        "        # Build the scores array\n",
        "        scores = [0] * len(COLUMNS[:-1])\n",
        "        # This column is the categorical column you want to extract.\n",
        "        scores[i] = 1\n",
        "        skb = SelectKBest(k=1)\n",
        "        skb.scores_ = scores\n",
        "        # Convert the categorical column to a numerical value\n",
        "        lbn = LabelBinarizer()\n",
        "        r = skb.transform(train_features)\n",
        "        lbn.fit(r)\n",
        "        # Create the pipeline to extract the categorical feature\n",
        "        categorical_pipelines.append(\n",
        "            ('categorical-{}'.format(i), Pipeline([\n",
        "                ('SKB-{}'.format(i), skb),\n",
        "                ('LBN-{}'.format(i), lbn)])))\n",
        "\n",
        "# Create pipeline to extract the numerical features\n",
        "skb = SelectKBest(k=6)\n",
        "# From COLUMNS use the features that are numerical\n",
        "skb.scores_ = [1, 0, 1, 0, 1, 0, 0, 0, 0, 0, 1, 1, 1, 0]\n",
        "categorical_pipelines.append(('numerical', skb))\n",
        "\n",
        "# Combine all the features using FeatureUnion\n",
        "preprocess = FeatureUnion(categorical_pipelines)\n",
        "\n",
        "# Create the classifier\n",
        "classifier = RandomForestClassifier()\n",
        "\n",
        "# Transform the features and fit them to the classifier\n",
        "classifier.fit(preprocess.transform(train_features), train_labels)\n",
        "\n",
        "# Create the overall model as a single pipeline\n",
        "pipeline = Pipeline([\n",
        "    ('union', preprocess),\n",
        "    ('classifier', classifier)\n",
        "])"
      ],
      "execution_count": 6,
      "outputs": []
    },
    {
      "cell_type": "markdown",
      "metadata": {
        "id": "-myiB9ODklsS"
      },
      "source": [
        "Export the model to a file"
      ]
    },
    {
      "cell_type": "code",
      "metadata": {
        "id": "7pomf4DaklsT",
        "outputId": "187b7197-55d5-40cb-c5a7-382b013aeec5",
        "colab": {
          "base_uri": "https://localhost:8080/",
          "height": 34
        }
      },
      "source": [
        "model = 'model.joblib'\n",
        "joblib.dump(pipeline, model)"
      ],
      "execution_count": 7,
      "outputs": [
        {
          "output_type": "execute_result",
          "data": {
            "text/plain": [
              "['model.joblib']"
            ]
          },
          "metadata": {
            "tags": []
          },
          "execution_count": 7
        }
      ]
    },
    {
      "cell_type": "code",
      "metadata": {
        "id": "MR7MrOxCklsX",
        "outputId": "03143242-597c-4a0d-f6ed-99f987134199",
        "colab": {
          "base_uri": "https://localhost:8080/",
          "height": 34
        }
      },
      "source": [
        "!ls -al model.joblib"
      ],
      "execution_count": 8,
      "outputs": [
        {
          "output_type": "stream",
          "text": [
            "-rw-r--r-- 1 root root 81801074 Sep 28 13:05 model.joblib\n"
          ],
          "name": "stdout"
        }
      ]
    },
    {
      "cell_type": "markdown",
      "metadata": {
        "id": "9A1qkVtxklsa"
      },
      "source": [
        "## Predictions\n",
        "Selecting one person that makes <=50K and one that makes >50K to test the model."
      ]
    },
    {
      "cell_type": "code",
      "metadata": {
        "id": "X7KOnIcXklsb",
        "outputId": "2a3ecef4-8a4a-43f0-b5e0-1925880061c9",
        "colab": {
          "base_uri": "https://localhost:8080/",
          "height": 122
        }
      },
      "source": [
        "print('Show a person that makes <=50K:')\n",
        "print('\\tFeatures: {0} --> Label: {1}\\n'.format(test_features[0], test_labels[0]))\n",
        "\n",
        "with open('less_than_50K.json', 'w') as outfile:\n",
        "  json.dump(test_features[0], outfile)\n",
        "\n",
        "print('Show a person that makes >50K:')\n",
        "print('\\tFeatures: {0} --> Label: {1}'.format(test_features[3], test_labels[3]))\n",
        "\n",
        "with open('more_than_50K.json', 'w') as outfile:\n",
        "  json.dump(test_features[3], outfile)"
      ],
      "execution_count": 9,
      "outputs": [
        {
          "output_type": "stream",
          "text": [
            "Show a person that makes <=50K:\n",
            "\tFeatures: [25, ' Private', 226802, ' 11th', 7, ' Never-married', ' Machine-op-inspct', ' Own-child', ' Black', ' Male', 0, 0, 40, ' United-States'] --> Label: False\n",
            "\n",
            "Show a person that makes >50K:\n",
            "\tFeatures: [44, ' Private', 160323, ' Some-college', 10, ' Married-civ-spouse', ' Machine-op-inspct', ' Husband', ' Black', ' Male', 7688, 0, 40, ' United-States'] --> Label: True\n"
          ],
          "name": "stdout"
        }
      ]
    },
    {
      "cell_type": "markdown",
      "metadata": {
        "id": "sZoSdNinklse"
      },
      "source": [
        "## Use Python to make local predictions\n",
        "Test the model with the entire test set and print out some of the results."
      ]
    },
    {
      "cell_type": "code",
      "metadata": {
        "id": "D9_cLER2klse"
      },
      "source": [
        "local_results = pipeline.predict(test_features)\n",
        "local = pd.Series(local_results, name='local')"
      ],
      "execution_count": 10,
      "outputs": []
    },
    {
      "cell_type": "code",
      "metadata": {
        "id": "t5olpIPdklsh",
        "outputId": "40b15f33-78a2-4898-864b-6b96b305be4c",
        "colab": {
          "base_uri": "https://localhost:8080/",
          "height": 204
        }
      },
      "source": [
        "local[:10]"
      ],
      "execution_count": 11,
      "outputs": [
        {
          "output_type": "execute_result",
          "data": {
            "text/plain": [
              "0    False\n",
              "1    False\n",
              "2    False\n",
              "3     True\n",
              "4    False\n",
              "5    False\n",
              "6    False\n",
              "7     True\n",
              "8    False\n",
              "9    False\n",
              "Name: local, dtype: bool"
            ]
          },
          "metadata": {
            "tags": []
          },
          "execution_count": 11
        }
      ]
    },
    {
      "cell_type": "code",
      "metadata": {
        "id": "kPlHv4nUklsj",
        "outputId": "b9137e96-abfa-4118-c5bb-c5de355196cd",
        "colab": {
          "base_uri": "https://localhost:8080/",
          "height": 187
        }
      },
      "source": [
        "# Print the first 10 responses\n",
        "for i, response in enumerate(local[:10]):\n",
        "    print('Prediction: {}\\tLabel: {}'.format(response, test_labels[i]))"
      ],
      "execution_count": 12,
      "outputs": [
        {
          "output_type": "stream",
          "text": [
            "Prediction: False\tLabel: False\n",
            "Prediction: False\tLabel: False\n",
            "Prediction: False\tLabel: True\n",
            "Prediction: True\tLabel: True\n",
            "Prediction: False\tLabel: False\n",
            "Prediction: False\tLabel: False\n",
            "Prediction: False\tLabel: False\n",
            "Prediction: True\tLabel: True\n",
            "Prediction: False\tLabel: False\n",
            "Prediction: False\tLabel: False\n"
          ],
          "name": "stdout"
        }
      ]
    }
  ]
}