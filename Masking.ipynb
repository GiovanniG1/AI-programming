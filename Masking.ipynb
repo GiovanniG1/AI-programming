{
  "nbformat": 4,
  "nbformat_minor": 0,
  "metadata": {
    "kernelspec": {
      "display_name": "Python 3.5",
      "language": "python",
      "name": "py35"
    },
    "language_info": {
      "codemirror_mode": {
        "name": "ipython",
        "version": 3
      },
      "file_extension": ".py",
      "mimetype": "text/x-python",
      "name": "python",
      "nbconvert_exporter": "python",
      "pygments_lexer": "ipython3",
      "version": "3.5.10"
    },
    "colab": {
      "name": "Masking.ipynb",
      "provenance": [],
      "collapsed_sections": []
    }
  },
  "cells": [
    {
      "cell_type": "code",
      "metadata": {
        "id": "fc3GRLqZPPQT"
      },
      "source": [
        "from quantopian.pipeline import Pipeline\n",
        "from quantopian.research import run_pipeline\n",
        "from quantopian.pipeline.data.builtin import USEquityPricing\n",
        "from quantopian.pipeline.factors import SimpleMovingAverage, AverageDollarVolume"
      ],
      "execution_count": null,
      "outputs": []
    },
    {
      "cell_type": "markdown",
      "metadata": {
        "id": "lr30E89zPPQb"
      },
      "source": [
        "##Masking\n",
        "Sometimes you want to ignore certain assets when computing pipeline expresssions. There are two common cases where ignoring assets is useful:\n",
        "1. You want to compute an expression that's computationally expensive, and you know you only care about results for certain assets. A common example of such an expensive expression is a `Factor` computing the coefficients of a regression ([RollingLinearRegressionOfReturns](https://www.quantopian.com/help#quantopian_pipeline_factors_RollingLinearRegressionOfReturns)).\n",
        "2. You want to compute an expression that performs comparisons between assets, but you only want those comparisons to be performed against a subset of all assets. For example, you might want to use the `Factor` method `top` to compute the top 200 assets by earnings yield, ignoring assets that don't meet some liquidity constraint.\n",
        "\n",
        "To support these two use-cases, all `Factors` and many `Factor` methods can accept a mask argument, which must be a `Filter` indicating which assets to consider when computing."
      ]
    },
    {
      "cell_type": "markdown",
      "metadata": {
        "id": "_OygLHaaPPQd"
      },
      "source": [
        "###Masking Factors\n",
        "Let's say you want the pipeline to output securities with a high or low percent difference but you also only want to consider securities with a dollar volume above $10,000,000. To do this, let's rearrange the `make_pipeline` function so that you first create the `high_dollar_volume` filter. You can then use this filter as a `mask` for moving average factors by passing `high_dollar_volume` as the `mask` argument to `SimpleMovingAverage`."
      ]
    },
    {
      "cell_type": "code",
      "metadata": {
        "id": "lqQXikqBPPQe"
      },
      "source": [
        "# Dollar volume factor\n",
        "dollar_volume = AverageDollarVolume(window_length=30)\n",
        "\n",
        "# High dollar volume filter\n",
        "high_dollar_volume = (dollar_volume > 10000000)\n",
        "\n",
        "# Average close price factors\n",
        "mean_close_10 = SimpleMovingAverage(inputs=[USEquityPricing.close], window_length=10, mask=high_dollar_volume)\n",
        "mean_close_30 = SimpleMovingAverage(inputs=[USEquityPricing.close], window_length=30, mask=high_dollar_volume)\n",
        "\n",
        "# Relative difference factor\n",
        "percent_difference = (mean_close_10 - mean_close_30) / mean_close_30"
      ],
      "execution_count": null,
      "outputs": []
    },
    {
      "cell_type": "markdown",
      "metadata": {
        "id": "GJHM1Z8CPPQk"
      },
      "source": [
        "Applying the mask to `SimpleMovingAverage` restricts the average close price factors to a computation over the ~2000 securities passing the `high_dollar_volume` filter, as opposed to ~8000 without a mask. When you combine `mean_close_10` and `mean_close_30` to form `percent_difference`, the computation is performed on the same ~2000 securities."
      ]
    },
    {
      "cell_type": "markdown",
      "metadata": {
        "id": "JhvNPl_fPPQm"
      },
      "source": [
        "###Masking Filters\n",
        "Masks can also be applied to methods that return filters like `top`, `bottom`, and `percentile_between`.\n",
        "\n",
        "Masks are most useful when you want to apply a filter in the earlier steps of a combined computation. For example, suppose you want to get the 50 securities with the highest open price that are also in the top 10% of dollar volume. Suppose that you then want the 90th-100th percentile of these securities by close price. You can do this with the following:"
      ]
    },
    {
      "cell_type": "code",
      "metadata": {
        "id": "LUyPq_PjPPQn"
      },
      "source": [
        "# Dollar volume factor\n",
        "dollar_volume = AverageDollarVolume(window_length=30)\n",
        "\n",
        "# High dollar volume filter\n",
        "high_dollar_volume = dollar_volume.percentile_between(90,100)\n",
        "\n",
        "# Top open price filter (high dollar volume securities)\n",
        "top_open_price = USEquityPricing.open.latest.top(50, mask=high_dollar_volume)\n",
        "\n",
        "# Top percentile close price filter (high dollar volume, top 50 open price)\n",
        "high_close_price = USEquityPricing.close.latest.percentile_between(90, 100, mask=top_open_price)"
      ],
      "execution_count": null,
      "outputs": []
    },
    {
      "cell_type": "markdown",
      "metadata": {
        "id": "QUrSULpCPPQu"
      },
      "source": [
        "Let's put this into `make_pipeline` and output an empty pipeline screened with the `high_close_price` filter."
      ]
    },
    {
      "cell_type": "code",
      "metadata": {
        "id": "OSQ7ozsSPPQv"
      },
      "source": [
        "def make_pipeline():\n",
        "\n",
        "    # Dollar volume factor\n",
        "    dollar_volume = AverageDollarVolume(window_length=30)\n",
        "\n",
        "    # High dollar volume filter\n",
        "    high_dollar_volume = dollar_volume.percentile_between(90,100)\n",
        "\n",
        "    # Top open securities filter (high dollar volume securities)\n",
        "    top_open_price = USEquityPricing.open.latest.top(50, mask=high_dollar_volume)\n",
        "\n",
        "    # Top percentile close price filter (high dollar volume, top 50 open price)\n",
        "    high_close_price = USEquityPricing.close.latest.percentile_between(90, 100, mask=top_open_price)\n",
        "\n",
        "    return Pipeline(\n",
        "        screen=high_close_price\n",
        "    )"
      ],
      "execution_count": null,
      "outputs": []
    },
    {
      "cell_type": "markdown",
      "metadata": {
        "id": "B4hHPNt8PPQ1"
      },
      "source": [
        "Running the pipeline outputs 5 securities on May 5th, 2015."
      ]
    },
    {
      "cell_type": "code",
      "metadata": {
        "id": "TT_JEjfUPPQ2",
        "outputId": "52aa9207-3832-4575-b2c3-0a1f81899760",
        "colab": {
          "referenced_widgets": [
            ""
          ]
        }
      },
      "source": [
        "result = run_pipeline(make_pipeline(), '2015-05-05', '2015-05-05')\n",
        "print 'Number of securities that passed the filter: %d' % len(result)"
      ],
      "execution_count": null,
      "outputs": [
        {
          "output_type": "display_data",
          "data": {
            "application/vnd.jupyter.widget-view+json": {
              "model_id": "",
              "version_major": 2,
              "version_minor": 0
            },
            "text/plain": [
              ""
            ]
          },
          "metadata": {
            "tags": []
          }
        },
        {
          "output_type": "display_data",
          "data": {
            "text/html": [
              "<b>Pipeline Execution Time:</b> 2.05 Seconds"
            ],
            "text/plain": [
              "<IPython.core.display.HTML object>"
            ]
          },
          "metadata": {
            "tags": []
          }
        },
        {
          "output_type": "stream",
          "text": [
            "Number of securities that passed the filter: 5\n"
          ],
          "name": "stdout"
        }
      ]
    }
  ]
}